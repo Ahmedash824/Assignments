{
 "cells": [
  {
   "cell_type": "markdown",
   "id": "1d869d27-266f-4112-b1a8-1f39671cc710",
   "metadata": {},
   "source": [
    "# **AI Diploma**\n"
   ]
  },
  {
   "cell_type": "markdown",
   "id": "94e2cd3a-0d65-4c6a-97ab-f1232e9aafeb",
   "metadata": {},
   "source": [
    "### **Data Science**"
   ]
  },
  {
   "cell_type": "markdown",
   "id": "28fd742b-7e3e-4183-8d43-73de870d6470",
   "metadata": {},
   "source": [
    "### Assignment 2"
   ]
  },
  {
   "cell_type": "markdown",
   "id": "48d30341-baa9-44e1-b9da-e6e8496bfa61",
   "metadata": {},
   "source": [
    "<img src=\"https://th.bing.com/th/id/R.84611a9f16c2c2ebda65da14c5280e03?rik=YXFlHrjbBApRZQ&pid=ImgRaw&r=0\" alt=\"alternatetext\" style=\"width:1000px;\">"
   ]
  },
  {
   "cell_type": "markdown",
   "id": "0e81e3fd-0235-461b-bc10-7e54050d9c89",
   "metadata": {},
   "source": [
    "### 1) Write a NumPy program to test whether none of the elements of a given array is zero."
   ]
  },
  {
   "cell_type": "code",
   "execution_count": 12,
   "id": "7cfb5498-c709-4143-9cde-3850b48d8e3e",
   "metadata": {},
   "outputs": [
    {
     "name": "stdout",
     "output_type": "stream",
     "text": [
      "There are zero values : 2 Zeros\n"
     ]
    }
   ],
   "source": [
    "import numpy as np\n",
    "\n",
    "def arr_zero (data):\n",
    "    count =0\n",
    "    if np.all(data) == True :\n",
    "        print (\"There are no zero values\")\n",
    "    else:\n",
    "        for i in range (len(data)):\n",
    "            for x in range (len(data[0])):\n",
    "                if data[i,x] == 0 :\n",
    "                    count+=1\n",
    "        print (f\"There are zero values : {count} Zeros\")\n",
    "\n",
    "data = np.array ([[2,3,2,0],\n",
    "                [3,8,3,0]])\n",
    "\n",
    "arr_zero (data)"
   ]
  },
  {
   "cell_type": "markdown",
   "id": "7a3652cc-c42f-4d41-8c5f-d47018205f6e",
   "metadata": {},
   "source": [
    "### 2) Write a NumPy program to test whether any of the elements of a given array is non-zero."
   ]
  },
  {
   "cell_type": "code",
   "execution_count": 17,
   "id": "4eda3323-0220-4980-a77a-bc254bbe19d5",
   "metadata": {},
   "outputs": [
    {
     "name": "stdout",
     "output_type": "stream",
     "text": [
      "There are non zero values : 2 Values\n"
     ]
    }
   ],
   "source": [
    "import numpy as np\n",
    "\n",
    "def arr_zero (data):\n",
    "    count =0\n",
    "    if np.any(data) == True :\n",
    "        for i in range (len(data)):\n",
    "            for x in range (len(data[0])):\n",
    "                if data[i,x] != 0 :\n",
    "                    count+=1\n",
    "        print (f\"There are non zero values : {count} Values\")\n",
    "    else:\n",
    "        print (\"There are no non zero values\")\n",
    "\n",
    "data = np.array ([[8,0,0,0],\n",
    "                [0,0,8,0]])\n",
    "\n",
    "arr_zero (data)"
   ]
  },
  {
   "cell_type": "markdown",
   "id": "bafd5cac-143f-4c5b-a0e2-f427635657aa",
   "metadata": {},
   "source": [
    "### 3) Write a NumPy program to create an element-wise comparison (equal, equal within a tolerance) of two given"
   ]
  },
  {
   "cell_type": "code",
   "execution_count": 21,
   "id": "ff1a7569-33af-401c-acca-35f44accf3be",
   "metadata": {},
   "outputs": [
    {
     "name": "stdout",
     "output_type": "stream",
     "text": [
      "Two arrays are not equal\n"
     ]
    }
   ],
   "source": [
    "import numpy as np\n",
    "\n",
    "def comp (data1,data2):\n",
    "    comp_ = data1 == data2\n",
    "    if np.all (comp_) == True :\n",
    "        print (\"Two arrays are equal\")\n",
    "    else:    \n",
    "        print (\"Two arrays are not equal\")\n",
    "\n",
    "data1 = np.array ([[8,0,0,0],\n",
    "                [0,0,8,0]])\n",
    "data2 = np.array ([[8,9,0,0],\n",
    "                [0,0,8,0]])\n",
    "\n",
    "comp (data1,data2)"
   ]
  },
  {
   "cell_type": "markdown",
   "id": "72b521ab-ea2b-42fd-8743-4e5bee4ffd3a",
   "metadata": {},
   "source": [
    "### 5) Write a NumPy program to create an array of the integers from 30 to70."
   ]
  },
  {
   "cell_type": "code",
   "execution_count": 34,
   "id": "42eed690-5865-493d-a290-140c3b44fb7e",
   "metadata": {},
   "outputs": [
    {
     "data": {
      "text/plain": [
       "array([30, 31, 32, 33, 34, 35, 36, 37, 38, 39, 40, 41, 42, 43, 44, 45, 46,\n",
       "       47, 48, 49, 50, 51, 52, 53, 54, 55, 56, 57, 58, 59, 60, 61, 62, 63,\n",
       "       64, 65, 66, 67, 68, 69, 70])"
      ]
     },
     "execution_count": 34,
     "metadata": {},
     "output_type": "execute_result"
    }
   ],
   "source": [
    "import numpy as np\n",
    "\n",
    "np.arange (30,71)"
   ]
  },
  {
   "cell_type": "markdown",
   "id": "758bc32a-9565-4f46-a1e5-093bddd98220",
   "metadata": {},
   "source": [
    "### 4) Write a NumPy program to create an array of 10 zeros,10 ones, 10 fives."
   ]
  },
  {
   "cell_type": "code",
   "execution_count": 9,
   "id": "40c7c410-786f-4288-bfd0-1b0459904585",
   "metadata": {},
   "outputs": [
    {
     "name": "stdout",
     "output_type": "stream",
     "text": [
      "[[0. 0.]\n",
      " [0. 0.]\n",
      " [0. 0.]\n",
      " [0. 0.]\n",
      " [0. 0.]]\n",
      "[1. 1. 1. 1. 1. 1. 1. 1. 1. 1.]\n",
      "[[5 5]\n",
      " [5 5]\n",
      " [5 5]\n",
      " [5 5]\n",
      " [5 5]]\n"
     ]
    }
   ],
   "source": [
    "import numpy as np\n",
    "\n",
    "print (np.zeros((5,2)))\n",
    "print (np.ones(10))\n",
    "print (np.full ((5,2),5))"
   ]
  },
  {
   "cell_type": "markdown",
   "id": "d083da92-3fc2-4c01-ae55-6688f1b5c066",
   "metadata": {},
   "source": [
    "### 6) Write a NumPy program to create a 3x3 identity matrix"
   ]
  },
  {
   "cell_type": "code",
   "execution_count": 4,
   "id": "c7fcd3b8-f447-45b9-b5fc-8ea870374387",
   "metadata": {},
   "outputs": [
    {
     "data": {
      "text/plain": [
       "array([[1, 0, 0],\n",
       "       [0, 1, 0],\n",
       "       [0, 0, 1]])"
      ]
     },
     "execution_count": 4,
     "metadata": {},
     "output_type": "execute_result"
    }
   ],
   "source": [
    "import numpy as np\n",
    "\n",
    "np.eye (3,3,dtype=int)"
   ]
  },
  {
   "cell_type": "markdown",
   "id": "029df32f-367a-4801-9791-716ecbca2717",
   "metadata": {},
   "source": [
    "### 7) Write a NumPy program to generate a random number between 0 and 1"
   ]
  },
  {
   "cell_type": "code",
   "execution_count": 50,
   "id": "ab81fd3f-26be-41da-8220-3d8b4d1526af",
   "metadata": {},
   "outputs": [
    {
     "data": {
      "text/plain": [
       "0.6679877003658538"
      ]
     },
     "execution_count": 50,
     "metadata": {},
     "output_type": "execute_result"
    }
   ],
   "source": [
    "np.random.rand()"
   ]
  },
  {
   "cell_type": "markdown",
   "id": "4a43bbf1-9ac9-4ca9-8d7f-235f9dc881c6",
   "metadata": {},
   "source": [
    "### 8) /////Write a NumPy program to generate an array of 15 random numbers from a standard normal distribution"
   ]
  },
  {
   "cell_type": "code",
   "execution_count": 49,
   "id": "23417124-216b-4288-9ed2-599b7b995074",
   "metadata": {},
   "outputs": [
    {
     "name": "stdout",
     "output_type": "stream",
     "text": [
      "[-0.40816069 -0.30289762 -0.24789432 -1.08665068 -0.39358849  0.93505775\n",
      " -0.39580484 -1.16252191 -3.05242496  1.59290155 -0.4307934   2.43495659\n",
      " -1.61912672 -0.36744418  0.29918815]\n"
     ]
    }
   ],
   "source": [
    "rand_num = np.random.normal(0, 1,15)\n",
    "print (rand_num)"
   ]
  },
  {
   "cell_type": "markdown",
   "id": "ab759038-b804-4d8f-9de8-6f4ced55dedf",
   "metadata": {},
   "source": [
    "### 9) Write a NumPy program to create a vector with values ranging from 15 to 55 and print all values except the first and last."
   ]
  },
  {
   "cell_type": "code",
   "execution_count": 6,
   "id": "95d1c107-769b-4583-afd5-16b9a2974f6e",
   "metadata": {},
   "outputs": [
    {
     "name": "stdout",
     "output_type": "stream",
     "text": [
      "Original data = [15 16 17 18 19 20 21 22 23 24 25 26 27 28 29 30 31 32 33 34 35 36 37 38\n",
      " 39 40 41 42 43 44 45 46 47 48 49 50 51 52 53 54 55]\n",
      "Edited data = [16 17 18 19 20 21 22 23 24 25 26 27 28 29 30 31 32 33 34 35 36 37 38 39\n",
      " 40 41 42 43 44 45 46 47 48 49 50 51 52 53 54]\n"
     ]
    }
   ],
   "source": [
    "data = np.arange (15,56)\n",
    "print (f\"Original data = {data}\")\n",
    "print (f\"Edited data = {data[1:-1]}\")"
   ]
  },
  {
   "cell_type": "markdown",
   "id": "8a5f9e5c-d334-4a3c-a60d-6a88bbc02a2f",
   "metadata": {},
   "source": [
    "### 10) Write a NumPy program to create a vector of length 5 filled with arbitrary integers from 0 to 10"
   ]
  },
  {
   "cell_type": "code",
   "execution_count": 11,
   "id": "f0466a62-4d0a-424c-b4c8-98f9b372fe92",
   "metadata": {},
   "outputs": [
    {
     "name": "stdout",
     "output_type": "stream",
     "text": [
      "[ 0  2  5  7 10]\n"
     ]
    }
   ],
   "source": [
    "import numpy as np\n",
    "\n",
    "vec = np.linspace (0,10,5,dtype = int)\n",
    "print (vec)"
   ]
  },
  {
   "cell_type": "markdown",
   "id": "570f4c4b-2f9a-4419-a017-b228443aa932",
   "metadata": {},
   "source": [
    "### 11) Write a NumPy program to create a 10x10 matrix, in which the elements on the borders will be equal to 1, and inside 0."
   ]
  },
  {
   "cell_type": "code",
   "execution_count": 33,
   "id": "84d7b79b-7b17-457a-b3dd-12f6966bcd1c",
   "metadata": {},
   "outputs": [
    {
     "name": "stdout",
     "output_type": "stream",
     "text": [
      "[[1. 1. 1. 1. 1. 1. 1. 1. 1. 1.]\n",
      " [1. 0. 0. 0. 0. 0. 0. 0. 0. 1.]\n",
      " [1. 0. 0. 0. 0. 0. 0. 0. 0. 1.]\n",
      " [1. 0. 0. 0. 0. 0. 0. 0. 0. 1.]\n",
      " [1. 0. 0. 0. 0. 0. 0. 0. 0. 1.]\n",
      " [1. 0. 0. 0. 0. 0. 0. 0. 0. 1.]\n",
      " [1. 0. 0. 0. 0. 0. 0. 0. 0. 1.]\n",
      " [1. 0. 0. 0. 0. 0. 0. 0. 0. 1.]\n",
      " [1. 0. 0. 0. 0. 0. 0. 0. 0. 1.]\n",
      " [1. 1. 1. 1. 1. 1. 1. 1. 1. 1.]]\n"
     ]
    }
   ],
   "source": [
    "arr= np.zeros ((10,10))\n",
    "arr[0] = 1\n",
    "arr[-1] = 1\n",
    "arr[:,0] = 1\n",
    "arr[:,-1] = 1\n",
    "print (arr)"
   ]
  },
  {
   "cell_type": "markdown",
   "id": "e957efc9-abd6-4906-b9ca-a3e2e6dbe2ad",
   "metadata": {},
   "source": [
    "### 12) Write a NumPy program to create a 5x5 zero matrix with elements on the main diagonal equal to 1, 2, 3, 4, 5."
   ]
  },
  {
   "cell_type": "code",
   "execution_count": 42,
   "id": "66550971-dea2-448c-9d8a-ef2c0002d697",
   "metadata": {},
   "outputs": [
    {
     "name": "stdout",
     "output_type": "stream",
     "text": [
      "[[1 0 0 0 0]\n",
      " [0 2 0 0 0]\n",
      " [0 0 3 0 0]\n",
      " [0 0 0 4 0]\n",
      " [0 0 0 0 5]]\n",
      "[[1 0 0 0 0]\n",
      " [0 2 0 0 0]\n",
      " [0 0 3 0 0]\n",
      " [0 0 0 4 0]\n",
      " [0 0 0 0 5]]\n"
     ]
    }
   ],
   "source": [
    "arr= np.zeros ((5,5),dtype=int)\n",
    "arr[0,0] = 1\n",
    "arr[1,1] = 2\n",
    "arr[2,2] = 3\n",
    "arr[3,3] = 4\n",
    "arr[4,4] = 5\n",
    "arr1 = np.diag ([1,2,3,4,5])\n",
    "print (arr)\n",
    "print(arr1)"
   ]
  },
  {
   "cell_type": "markdown",
   "id": "95368e61-b0f7-4eaf-94a1-2550aeb0d4f8",
   "metadata": {},
   "source": [
    "### 13) Write a NumPy program to create a 4x4 matrix in which 0 and 1 are staggered, with zeros on the main diagonal."
   ]
  },
  {
   "cell_type": "code",
   "execution_count": 48,
   "id": "bbed1bf7-e311-4f08-a0d7-a5945c3e8305",
   "metadata": {},
   "outputs": [
    {
     "name": "stdout",
     "output_type": "stream",
     "text": [
      "[[0. 1. 0. 1.]\n",
      " [1. 0. 1. 0.]\n",
      " [0. 1. 0. 1.]\n",
      " [1. 0. 1. 0.]]\n"
     ]
    }
   ],
   "source": [
    "arr= np.zeros ((4,4))\n",
    "arr[::2,1::2] = 1\n",
    "arr[1::2,::2] = 1\n",
    "print (arr)"
   ]
  },
  {
   "cell_type": "markdown",
   "id": "387a0295-49b1-452d-a419-fe5336b29879",
   "metadata": {},
   "source": [
    "### 14) Write a Python program to find the two numbers whose product is maximum among all the pairs in a given list of numbers"
   ]
  },
  {
   "cell_type": "code",
   "execution_count": 64,
   "id": "be3e488b-ecf5-401b-bfff-860685de3959",
   "metadata": {},
   "outputs": [
    {
     "name": "stdout",
     "output_type": "stream",
     "text": [
      "The two numbers whose product is maximum are (8, 3)\n"
     ]
    }
   ],
   "source": [
    "import random\n",
    "\n",
    "def maximum (data):\n",
    "    max = 1\n",
    "    for i in data:\n",
    "        for x in data:\n",
    "           if i!=x and i*x>max:\n",
    "               max = i*x\n",
    "               max_n1 = i\n",
    "               max_n2 = x\n",
    "    return max,max_n1,max_n2 \n",
    "\n",
    "data = [8,0,2,3]\n",
    "\n",
    "x,y,z=maximum (data)\n",
    "print (f\"The two numbers whose product is maximum are {(y,z)}\")"
   ]
  },
  {
   "cell_type": "markdown",
   "id": "5add266f-de4e-4787-8977-0be6c71df859",
   "metadata": {},
   "source": [
    "### 15) Write a NumPy program to create a one-dimensional array of forty pseudo-randomly generated values. Select random numbers from a uniform distribution between 0 and 1"
   ]
  },
  {
   "cell_type": "code",
   "execution_count": 67,
   "id": "951108a8-8ebc-4678-92bd-86d3a7c6da02",
   "metadata": {},
   "outputs": [
    {
     "data": {
      "text/plain": [
       "array([0.77893988, 0.58466744, 0.13922919, 0.06847084, 0.29548006,\n",
       "       0.3298692 , 0.33377254, 0.83951849, 0.70136022, 0.39842057,\n",
       "       0.20272686, 0.98459266, 0.17558679, 0.43381296, 0.51438587,\n",
       "       0.0604928 , 0.03821271, 0.4083124 , 0.57909811, 0.24891329,\n",
       "       0.61075495, 0.9554425 , 0.08898528, 0.48297988, 0.01708534,\n",
       "       0.31861108, 0.26902084, 0.92048812, 0.05488405, 0.13780809,\n",
       "       0.18385912, 0.2639549 , 0.1921124 , 0.28675204, 0.19620085,\n",
       "       0.14389969, 0.2975805 , 0.46991564, 0.16315642, 0.51342035])"
      ]
     },
     "execution_count": 67,
     "metadata": {},
     "output_type": "execute_result"
    }
   ],
   "source": [
    "np.random.rand (40)"
   ]
  },
  {
   "cell_type": "markdown",
   "id": "6652d569-d73f-4839-a1b3-c984d2783fc2",
   "metadata": {},
   "source": [
    "### 16) Write a NumPy program to extract all numbers from a given array which are less and greater than a specified number."
   ]
  },
  {
   "cell_type": "code",
   "execution_count": 19,
   "id": "87b02c5d-a5f9-45d2-9254-fb38e321a092",
   "metadata": {},
   "outputs": [
    {
     "name": "stdin",
     "output_type": "stream",
     "text": [
      "Enter a number 2\n"
     ]
    },
    {
     "name": "stdout",
     "output_type": "stream",
     "text": [
      "[8 9 4 8 5]\n"
     ]
    }
   ],
   "source": [
    "import numpy as np \n",
    "data2 = np.array ([[8,9,2,0],\n",
    "                [1,4,8,5]])\n",
    "\n",
    "n = int (input (\"Enter a number\"))\n",
    "a = data2 [data2 > n] \n",
    "print (a)"
   ]
  }
 ],
 "metadata": {
  "kernelspec": {
   "display_name": "Python 3 (ipykernel)",
   "language": "python",
   "name": "python3"
  },
  "language_info": {
   "codemirror_mode": {
    "name": "ipython",
    "version": 3
   },
   "file_extension": ".py",
   "mimetype": "text/x-python",
   "name": "python",
   "nbconvert_exporter": "python",
   "pygments_lexer": "ipython3",
   "version": "3.11.7"
  }
 },
 "nbformat": 4,
 "nbformat_minor": 5
}
