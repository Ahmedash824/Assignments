{
 "cells": [
  {
   "cell_type": "markdown",
   "id": "1d869d27-266f-4112-b1a8-1f39671cc710",
   "metadata": {},
   "source": [
    "# **AI Diploma**\n"
   ]
  },
  {
   "cell_type": "markdown",
   "id": "94e2cd3a-0d65-4c6a-97ab-f1232e9aafeb",
   "metadata": {},
   "source": [
    "### **Python Programming**"
   ]
  },
  {
   "cell_type": "markdown",
   "id": "28fd742b-7e3e-4183-8d43-73de870d6470",
   "metadata": {},
   "source": [
    "### Assignment 2"
   ]
  },
  {
   "cell_type": "markdown",
   "id": "48d30341-baa9-44e1-b9da-e6e8496bfa61",
   "metadata": {},
   "source": [
    "<img src=\"https://th.bing.com/th/id/R.84611a9f16c2c2ebda65da14c5280e03?rik=YXFlHrjbBApRZQ&pid=ImgRaw&r=0\" alt=\"alternatetext\" style=\"width:1000px;\">"
   ]
  },
  {
   "cell_type": "markdown",
   "id": "0e81e3fd-0235-461b-bc10-7e54050d9c89",
   "metadata": {},
   "source": [
    "### 1) Write a program to print the maximum between two numbers. (one-line conditional statement)"
   ]
  },
  {
   "cell_type": "code",
   "execution_count": 1,
   "id": "25accb45-f7f9-4761-8330-53a25e8c15c9",
   "metadata": {},
   "outputs": [
    {
     "name": "stdin",
     "output_type": "stream",
     "text": [
      "Enter first number 5\n",
      "Enter second number 9\n"
     ]
    },
    {
     "name": "stdout",
     "output_type": "stream",
     "text": [
      "The maximum = 9.0\n"
     ]
    }
   ],
   "source": [
    "first_num = float (input (\"Enter first number\"))\n",
    "second_num = float (input (\"Enter second number\"))\n",
    "\n",
    "print (f\"The maximum = {first_num}\") if first_num > second_num else print (f\"The maximum = {second_num}\") "
   ]
  },
  {
   "cell_type": "markdown",
   "id": "76606a06-f162-4114-b76f-21bb26e41744",
   "metadata": {},
   "source": [
    "### 2) Write a program to find the maximum between three numbers."
   ]
  },
  {
   "cell_type": "code",
   "execution_count": 5,
   "id": "24a5c243-c620-4d0e-95d0-b8129275a892",
   "metadata": {},
   "outputs": [
    {
     "name": "stdin",
     "output_type": "stream",
     "text": [
      "Enter first number 2.2\n",
      "Enter second number 3.3\n",
      "Enter third number 6.66\n"
     ]
    },
    {
     "name": "stdout",
     "output_type": "stream",
     "text": [
      "The maximum = 6.66\n"
     ]
    }
   ],
   "source": [
    "first_num = float (input (\"Enter first number\"))\n",
    "second_num = float (input (\"Enter second number\"))\n",
    "Third_num = float (input (\"Enter third number\"))\n",
    "\n",
    "y = max (first_num,second_num,Third_num)\n",
    "\n",
    "print (f\"The maximum = {y}\") "
   ]
  },
  {
   "cell_type": "code",
   "execution_count": 12,
   "id": "283ff940-67b9-43ac-981a-5412d46db8df",
   "metadata": {},
   "outputs": [
    {
     "name": "stdin",
     "output_type": "stream",
     "text": [
      "Enter first number 588\n",
      "Enter second number 6\n",
      "Enter third number 36\n"
     ]
    },
    {
     "name": "stdout",
     "output_type": "stream",
     "text": [
      "The maximum = 588.0\n"
     ]
    }
   ],
   "source": [
    "first_num = float (input (\"Enter first number\"))\n",
    "second_num = float (input (\"Enter second number\"))\n",
    "third_num = float (input (\"Enter third number\"))\n",
    "\n",
    "print (f\"The maximum = {first_num}\") if first_num > second_num and first_num > third_num else print (f\"The maximum = {second_num}\") if first_num < second_num and second_num > third_num else print (f\"The maximum = {third_num}\") "
   ]
  },
  {
   "cell_type": "markdown",
   "id": "21f8c52f-64e1-4459-ade6-348e657e8edd",
   "metadata": {},
   "source": [
    "### 3) Write a program to check whether a number is negative, or positive (one-line conditional statement)"
   ]
  },
  {
   "cell_type": "code",
   "execution_count": 18,
   "id": "26c8a47f-b21c-45dd-9f6f-6d1f2b18d4c9",
   "metadata": {},
   "outputs": [
    {
     "name": "stdin",
     "output_type": "stream",
     "text": [
      "Enter a number 5\n"
     ]
    },
    {
     "name": "stdout",
     "output_type": "stream",
     "text": [
      "The number is positive\n"
     ]
    }
   ],
   "source": [
    "num = float (input (\"Enter a number\"))\n",
    "\n",
    "(print (\"The number is positive\") if num > 0 else print (\"The number is negative\")) if num != 0 else print (\"The number is Zero\")"
   ]
  },
  {
   "cell_type": "markdown",
   "id": "a09e0cf7-8ca1-434f-883a-b97033810459",
   "metadata": {},
   "source": [
    "### 4) Write a  program to check whether a number is even or odd  (one-line statement)."
   ]
  },
  {
   "cell_type": "code",
   "execution_count": 22,
   "id": "cb1d9cd3-079e-43c0-948d-8d196fa973bf",
   "metadata": {},
   "outputs": [
    {
     "name": "stdin",
     "output_type": "stream",
     "text": [
      "Enter a number 0\n"
     ]
    },
    {
     "name": "stdout",
     "output_type": "stream",
     "text": [
      "The number is Zero\n"
     ]
    }
   ],
   "source": [
    "num = float (input (\"Enter a number\"))\n",
    "\n",
    "(print (\"The number is even\") if num%2 == 0 else print (\"The number is odd\")) if num != 0 else print (\"The number is Zero\")"
   ]
  },
  {
   "cell_type": "code",
   "execution_count": 28,
   "id": "530769b0-0ee1-424c-a664-6972356bc284",
   "metadata": {},
   "outputs": [
    {
     "name": "stdin",
     "output_type": "stream",
     "text": [
      "Enter a number 77\n"
     ]
    },
    {
     "name": "stdout",
     "output_type": "stream",
     "text": [
      "The number is odd\n"
     ]
    }
   ],
   "source": [
    "num = float (input (\"Enter a number\"))\n",
    "\n",
    "if num != 0 :    \n",
    "    if num%2 == 0 :\n",
    "        print (\"The number is even\") \n",
    "     \n",
    "    else :\n",
    "        print (\"The number is odd\")  \n",
    "        \n",
    "else :\n",
    "    print (\"The number is zero\")"
   ]
  },
  {
   "cell_type": "markdown",
   "id": "fd56a890-f626-4dc1-888f-b68073c92a5d",
   "metadata": {},
   "source": [
    "### 5) Write a  program to check whether a year is a leap year or not. (one-line conditional statement)."
   ]
  },
  {
   "cell_type": "code",
   "execution_count": 40,
   "id": "1d0e62a6-850d-415f-b0ee-941e49fa7f16",
   "metadata": {},
   "outputs": [
    {
     "name": "stdin",
     "output_type": "stream",
     "text": [
      "Enter the year 2024\n"
     ]
    },
    {
     "name": "stdout",
     "output_type": "stream",
     "text": [
      "The year is a leap year\n"
     ]
    }
   ],
   "source": [
    "year = float (input (\"Enter the year\"))\n",
    "\n",
    "print (\"Please enter a valid year\") if year == 0 or year<0  else print (\"The year is a leap year\") if year%4 == 0 else print (\"The year isn't a leap year\") "
   ]
  },
  {
   "cell_type": "markdown",
   "id": "f2541674-789e-478a-9b48-bd3b82320629",
   "metadata": {},
   "source": [
    "### 6) Write a  program to store the weekdays in a list and access the week day and print it by index."
   ]
  },
  {
   "cell_type": "code",
   "execution_count": 48,
   "id": "ce192e19-3891-4acf-ab64-cc74c5017fbe",
   "metadata": {},
   "outputs": [
    {
     "name": "stdout",
     "output_type": "stream",
     "text": [
      "The 1th day of the week is Saturday\n",
      "The 2th day of the week is Sunday\n",
      "The 3th day of the week is Monday\n",
      "The 4th day of the week is Tuesday\n",
      "The 5th day of the week is Wednesday\n",
      "The 6th day of the week is Thursday\n",
      "The 7th day of the week is Friday\n"
     ]
    }
   ],
   "source": [
    "weekdays = [\"Saturday\" , \"Sunday\" , \"Monday\" , \"Tuesday\" , \"Wednesday\" , \"Thursday\" , \"Friday\"]\n",
    "for x in range (7) :\n",
    "    print (f\"The {x+1}th day of the week is {weekdays[x]}\")"
   ]
  },
  {
   "cell_type": "code",
   "execution_count": 51,
   "id": "9d4d8d6b-4987-486b-825e-f5c733a817cb",
   "metadata": {},
   "outputs": [
    {
     "name": "stdout",
     "output_type": "stream",
     "text": [
      "Saturday\n",
      "Sunday\n",
      "Monday\n",
      "Tuesday\n",
      "Wednesday\n",
      "Thursday\n",
      "Friday\n"
     ]
    }
   ],
   "source": [
    "weekdays = [\"Saturday\" , \"Sunday\" , \"Monday\" , \"Tuesday\" , \"Wednesday\" , \"Thursday\" , \"Friday\"]\n",
    "for x in weekdays :\n",
    "    print (x)"
   ]
  },
  {
   "cell_type": "markdown",
   "id": "d2dea650-73c2-4ebb-aa54-58fbef1f7787",
   "metadata": {},
   "source": [
    "### 7) Write a  program to print all alphabets from a to z using while loop"
   ]
  },
  {
   "cell_type": "code",
   "execution_count": 54,
   "id": "934daff3-6027-4058-847d-b6f318c5675f",
   "metadata": {},
   "outputs": [
    {
     "name": "stdout",
     "output_type": "stream",
     "text": [
      "A\n",
      "B\n",
      "C\n",
      "D\n",
      "E\n",
      "F\n",
      "G\n",
      "H\n",
      "I\n",
      "J\n",
      "K\n",
      "L\n",
      "M\n",
      "N\n",
      "O\n",
      "P\n",
      "Q\n",
      "R\n",
      "S\n",
      "T\n",
      "U\n",
      "V\n",
      "W\n",
      "X\n",
      "Y\n",
      "Z\n"
     ]
    }
   ],
   "source": [
    "alphabets = \"ABCDEFGHIJKLMNOPQRSTUVWXYZ\"\n",
    "x = 0\n",
    "while (x<26) :\n",
    "    print (alphabets [x])\n",
    "    x += 1 "
   ]
  },
  {
   "cell_type": "markdown",
   "id": "ad42121a-2033-468a-8911-05b220733b80",
   "metadata": {},
   "source": [
    "### 8)Write a program to store numbers in the List and print its reverse"
   ]
  },
  {
   "cell_type": "code",
   "execution_count": 60,
   "id": "31307644-8a17-44ff-bb64-76a2b4f39d60",
   "metadata": {},
   "outputs": [
    {
     "name": "stdin",
     "output_type": "stream",
     "text": [
      "Enter first number 15\n",
      "Enter second number 6\n",
      "Enter third number 33\n"
     ]
    },
    {
     "name": "stdout",
     "output_type": "stream",
     "text": [
      "The original list of numbers is [15, 6, 33]\n",
      "The reversed list of numbers is [33, 6, 15]\n"
     ]
    }
   ],
   "source": [
    "num_1 = int (input (\"Enter first number\"))\n",
    "num_2 = int (input (\"Enter second number\"))\n",
    "num_3 = int (input (\"Enter third number\"))\n",
    "\n",
    "x= [num_1 , num_2 , num_3]\n",
    "\n",
    "print (f\"The original list of numbers is {x}\")\n",
    "\n",
    "x.reverse ()\n",
    "\n",
    "print (f\"The reversed list of numbers is {x}\")"
   ]
  },
  {
   "cell_type": "markdown",
   "id": "c6c875e9-144c-4440-ac2f-eb2be1a51f13",
   "metadata": {},
   "source": [
    "### 9) Write a program to print the multiplcation table of any number"
   ]
  },
  {
   "cell_type": "code",
   "execution_count": 64,
   "id": "e3e0a200-81eb-4c10-b260-d808d6369a0f",
   "metadata": {},
   "outputs": [
    {
     "name": "stdin",
     "output_type": "stream",
     "text": [
      "Enter a number 5\n"
     ]
    },
    {
     "name": "stdout",
     "output_type": "stream",
     "text": [
      "5*0 = 0\n",
      "5*1 = 5\n",
      "5*2 = 10\n",
      "5*3 = 15\n",
      "5*4 = 20\n",
      "5*5 = 25\n",
      "5*6 = 30\n",
      "5*7 = 35\n",
      "5*8 = 40\n",
      "5*9 = 45\n",
      "5*10 = 50\n"
     ]
    }
   ],
   "source": [
    "num = int (input (\"Enter a number\"))\n",
    "\n",
    "for x in range (11) :\n",
    "    print (f\"{num}*{x} = {num*x}\") "
   ]
  },
  {
   "cell_type": "markdown",
   "id": "3d9b5998-01db-48b0-800b-fe7b310da6ce",
   "metadata": {},
   "source": [
    "### 10)Write a program to print all even numbers between 1 to 100.(using while loop)"
   ]
  },
  {
   "cell_type": "code",
   "execution_count": 2,
   "id": "cda2afe5-3e69-4177-a938-71f694c2561a",
   "metadata": {},
   "outputs": [
    {
     "name": "stdout",
     "output_type": "stream",
     "text": [
      "2\n",
      "4\n",
      "6\n",
      "8\n",
      "10\n",
      "12\n",
      "14\n",
      "16\n",
      "18\n",
      "20\n",
      "22\n",
      "24\n",
      "26\n",
      "28\n",
      "30\n",
      "32\n",
      "34\n",
      "36\n",
      "38\n",
      "40\n",
      "42\n",
      "44\n",
      "46\n",
      "48\n",
      "50\n",
      "52\n",
      "54\n",
      "56\n",
      "58\n",
      "60\n",
      "62\n",
      "64\n",
      "66\n",
      "68\n",
      "70\n",
      "72\n",
      "74\n",
      "76\n",
      "78\n",
      "80\n",
      "82\n",
      "84\n",
      "86\n",
      "88\n",
      "90\n",
      "92\n",
      "94\n",
      "96\n",
      "98\n",
      "100\n"
     ]
    }
   ],
   "source": [
    "x = 0 \n",
    "while x<=100 :\n",
    "    if x%2 == 0 and x != 0:\n",
    "        print (x) \n",
    "    x+=1"
   ]
  },
  {
   "cell_type": "markdown",
   "id": "84bf2e6d-e37a-4435-abd9-a3641d890fb9",
   "metadata": {},
   "source": [
    "### Assignment 2'"
   ]
  },
  {
   "cell_type": "markdown",
   "id": "0e157faa-2856-4b15-abab-348397b65a36",
   "metadata": {},
   "source": [
    "### 1) Write a Python program to add an item to a tuple."
   ]
  },
  {
   "cell_type": "code",
   "execution_count": 4,
   "id": "ed99cfa5-8c56-45c9-b977-624d86505a4d",
   "metadata": {},
   "outputs": [
    {
     "name": "stdout",
     "output_type": "stream",
     "text": [
      "('Ahmed', 1, 15.6, True, 'Amit')\n"
     ]
    }
   ],
   "source": [
    "tuple_1 = (\"Ahmed\" , 1 , 15.6 , True)\n",
    "x = list (tuple_1)\n",
    "x. append(\"Amit\")\n",
    "y = tuple(x)\n",
    "print (y)"
   ]
  },
  {
   "cell_type": "markdown",
   "id": "c4471d9a-fa7b-49b8-a1a6-116847afe5bf",
   "metadata": {},
   "source": [
    "### 2) Write a Python program to sum all the items in a list."
   ]
  },
  {
   "cell_type": "code",
   "execution_count": 10,
   "id": "f2ce08cc-d8d1-4df2-aa23-2ad74488d8db",
   "metadata": {},
   "outputs": [
    {
     "name": "stdout",
     "output_type": "stream",
     "text": [
      "Sum = 1018\n"
     ]
    }
   ],
   "source": [
    "list_1 = [15,6,99,887,11]\n",
    "sum = list_1[0] + list_1[1]+list_1[2]+list_1[3]+list_1[4] \n",
    "print (f\"Sum = {sum}\") "
   ]
  },
  {
   "cell_type": "markdown",
   "id": "20fe8443-c6a0-4027-b31f-864c2145732c",
   "metadata": {},
   "source": [
    "### 3) Write a Python program to multiply all the items in a list."
   ]
  },
  {
   "cell_type": "code",
   "execution_count": 12,
   "id": "b7c22d0b-864f-423a-bc60-2305cfe7026a",
   "metadata": {},
   "outputs": [
    {
     "name": "stdout",
     "output_type": "stream",
     "text": [
      "Product = 86934870\n"
     ]
    }
   ],
   "source": [
    "list_1 = [15,6,99,887,11]\n",
    "product = list_1[0] * list_1[1]*list_1[2]*list_1[3]*list_1[4] \n",
    "print (f\"Product = {product}\") "
   ]
  },
  {
   "cell_type": "markdown",
   "id": "f7bbf87d-77ac-43c7-a887-fcf1df03116b",
   "metadata": {},
   "source": [
    "### 4) Write a Python program to get the smallest number from a list."
   ]
  },
  {
   "cell_type": "code",
   "execution_count": 16,
   "id": "f47319e0-027d-4c6a-9ef8-9c771159d2fa",
   "metadata": {},
   "outputs": [
    {
     "name": "stdout",
     "output_type": "stream",
     "text": [
      "Minimum = 6\n"
     ]
    }
   ],
   "source": [
    "list_1 = [15,6,99,887,11]\n",
    "least = min (list_1[0] , list_1[1],list_1[2],list_1[3],list_1[4])\n",
    "print (f\"Minimum = {least}\") "
   ]
  },
  {
   "cell_type": "markdown",
   "id": "f04bc62b-9d8a-41af-b0b4-13ef1add133c",
   "metadata": {},
   "source": [
    "### 5) Write a Python program to get the largest number from a list."
   ]
  },
  {
   "cell_type": "code",
   "execution_count": 17,
   "id": "31ce7e9c-5db4-4304-9924-ffedafc6725e",
   "metadata": {},
   "outputs": [
    {
     "name": "stdout",
     "output_type": "stream",
     "text": [
      "Maximum = 887\n"
     ]
    }
   ],
   "source": [
    "list_1 = [15,6,99,887,11]\n",
    "max_1 = max (list_1[0] , list_1[1],list_1[2],list_1[3],list_1[4])\n",
    "print (f\"Maximum = {max_1}\") "
   ]
  },
  {
   "cell_type": "markdown",
   "id": "1a266dd4-ad16-4c4c-a511-f27b8ca8c7fa",
   "metadata": {},
   "source": [
    "### 6. Write a Python program to count the number of strings from a given list of strings."
   ]
  },
  {
   "cell_type": "code",
   "execution_count": 22,
   "id": "88e954ce-6f51-4d31-80b7-50a88810687d",
   "metadata": {},
   "outputs": [
    {
     "name": "stdout",
     "output_type": "stream",
     "text": [
      "The count of AI = 3\n",
      "The count of Ahmed = 2\n",
      "The count of Amit = 1\n"
     ]
    }
   ],
   "source": [
    "list_1 = [\"Ahmed\" , \"AI\" , \"Amit\" , \"Barca\" , \"Ahmed\" , \"AI\" , \"AI\"]\n",
    "x = list_1.count (\"AI\")\n",
    "y = list_1.count (\"Ahmed\")\n",
    "z = list_1.count (\"Amit\")\n",
    "print (f\"The count of AI = {x}\")\n",
    "print (f\"The count of Ahmed = {y}\")\n",
    "print (f\"The count of Amit = {z}\")"
   ]
  },
  {
   "cell_type": "markdown",
   "id": "fd2cde5d-4587-4632-a21d-ae1ff9412a48",
   "metadata": {},
   "source": [
    "### <span style='color: red;'>7) Write a Python program to clone or copy a list</span>"
   ]
  },
  {
   "cell_type": "code",
   "execution_count": 61,
   "id": "a0c768cd-6284-4657-a1b8-7d9c74163441",
   "metadata": {},
   "outputs": [
    {
     "name": "stdout",
     "output_type": "stream",
     "text": [
      "['Ahmed', 'AI', 'Amit', 'Barca', 'Ahmed', 'AI', 'AI']\n"
     ]
    }
   ],
   "source": [
    "list_1 = [\"Ahmed\" , \"AI\" , \"Amit\" , \"Barca\" , \"Ahmed\" , \"AI\" , \"AI\"]\n",
    "list2 = list_1 \n",
    "print (list2)"
   ]
  },
  {
   "cell_type": "markdown",
   "id": "82f1618e-f89e-41a6-a200-c33362cdb5b5",
   "metadata": {},
   "source": [
    "### 8) Write a Python program to remove item(s) from a given set."
   ]
  },
  {
   "cell_type": "code",
   "execution_count": 2,
   "id": "0a923c3b-c883-4989-8199-461f6e6a7b13",
   "metadata": {},
   "outputs": [
    {
     "name": "stdout",
     "output_type": "stream",
     "text": [
      "{56.5, True, 12, 'Ahmed'}\n",
      "{56.5, True, 12}\n"
     ]
    }
   ],
   "source": [
    "set1 = {\"Ahmed\" , 12 , True, 56.5}\n",
    "print (set1)\n",
    "list1 = list (set1)\n",
    "list1.remove (\"Ahmed\")\n",
    "set2 = set (list1)\n",
    "print (set2)"
   ]
  },
  {
   "cell_type": "markdown",
   "id": "e4950fd7-7ecf-4a76-8167-c550058f4a54",
   "metadata": {},
   "source": [
    "### 9) Write a Python program to check if a set is a subset of another set."
   ]
  },
  {
   "cell_type": "code",
   "execution_count": 7,
   "id": "76623c3c-fee7-4764-963b-2ab7bba5f2ed",
   "metadata": {},
   "outputs": [
    {
     "name": "stdout",
     "output_type": "stream",
     "text": [
      "{56.5, True, 12, 'Ahmed'}\n",
      "The set is a subset of set 1\n"
     ]
    }
   ],
   "source": [
    "set1 = {\"Ahmed\" , 12 , True, 56.5}\n",
    "print (set1) \n",
    "set2 = {True, 56.5}\n",
    "if set2 <= set1:   #set2.issubset (set1) \n",
    "    print (\"The set is a subset of set 1\")\n",
    "else : \n",
    "    print (\"The set isn't a subset of set 1\") "
   ]
  },
  {
   "cell_type": "markdown",
   "id": "400a2933-3ed6-4b55-9d11-24ee04f4adc4",
   "metadata": {},
   "source": [
    "### 10) Write a Python program to remove all elements from a given set."
   ]
  },
  {
   "cell_type": "code",
   "execution_count": 10,
   "id": "ba7a5389-d531-461f-a3af-4c3a61f6e191",
   "metadata": {},
   "outputs": [
    {
     "name": "stdout",
     "output_type": "stream",
     "text": [
      "{56.5, True, 12, 'Ahmed'}\n",
      "set()\n"
     ]
    }
   ],
   "source": [
    "set1 = {\"Ahmed\" , 12 , True, 56.5}\n",
    "print (set1)\n",
    "list1 = list (set1)\n",
    "list1.clear ()\n",
    "set2 = set (list1)\n",
    "print (set2)"
   ]
  },
  {
   "cell_type": "markdown",
   "id": "f3045199-7e65-4eba-8e03-501fcd966439",
   "metadata": {},
   "source": [
    "### 11) Write a Python program to find the maximum and minimum values in a set."
   ]
  },
  {
   "cell_type": "code",
   "execution_count": 18,
   "id": "351a0eed-5091-40e2-9a98-f1073bd357ea",
   "metadata": {},
   "outputs": [
    {
     "name": "stdout",
     "output_type": "stream",
     "text": [
      "The set is {50, 99, 1256, 56.5, 12, 125}\n",
      "Maximum value of the set is 1256\n",
      "Minimum value of the set is 12\n"
     ]
    }
   ],
   "source": [
    "set1 = {12, 125, 56.5,50,99,1256}\n",
    "print (f\"The set is {set1}\")\n",
    "print (f\"Maximum value of the set is {max(set1)}\")\n",
    "print (f\"Minimum value of the set is {min(set1)}\")"
   ]
  },
  {
   "cell_type": "markdown",
   "id": "18e25025-8ef3-4776-800c-b4cb567cc24c",
   "metadata": {},
   "source": [
    "### 12) Write a Python program to find the index of an item in a tuple."
   ]
  },
  {
   "cell_type": "code",
   "execution_count": 24,
   "id": "d08fc7f5-e6bc-47f6-b5d1-44f34624fff4",
   "metadata": {},
   "outputs": [
    {
     "name": "stdout",
     "output_type": "stream",
     "text": [
      "('Ahmed', 12, 58.6, False)\n",
      "The index of element 'Ahmed' is 0\n"
     ]
    }
   ],
   "source": [
    "tuple1 = (\"Ahmed\" , 12, 58.6 , False)\n",
    "print (tuple1)\n",
    "x = tuple1.index(\"Ahmed\")\n",
    "print (f\"The index of element 'Ahmed' is {x}\")"
   ]
  },
  {
   "cell_type": "markdown",
   "id": "d2d9d898-467a-443f-90fd-e4382b51b763",
   "metadata": {},
   "source": [
    "### 13) Write a Python program to convert a tuple to a dictionary."
   ]
  },
  {
   "cell_type": "code",
   "execution_count": 28,
   "id": "b8ce2a32-f030-441b-b13e-4bd0e8e5293c",
   "metadata": {},
   "outputs": [
    {
     "name": "stdout",
     "output_type": "stream",
     "text": [
      "{'key1': 5, 'key2': 10, 'key3': 15}\n"
     ]
    }
   ],
   "source": [
    "tuple1 = ((\"key1\" , 5), (\"key2\", 10) ,(\"key3\" ,15))\n",
    "dict1 = dict (tuple1)\n",
    "print (dict1)"
   ]
  },
  {
   "cell_type": "markdown",
   "id": "6618aedc-c53d-4cee-9eeb-fdd76f7e6ef4",
   "metadata": {},
   "source": [
    "### 14) Write a Python program to unzip a list of tuples into individual lists."
   ]
  },
  {
   "cell_type": "code",
   "execution_count": 36,
   "id": "165742d2-4947-4e1d-bbb6-d1f38bbc6c18",
   "metadata": {},
   "outputs": [
    {
     "name": "stdout",
     "output_type": "stream",
     "text": [
      "The list of tuples is [('key1', 5), ('key2', 10), ('key3', 15, 55)]\n",
      "List 1 is ['key1', 5]\n",
      "List 2 is ['key2', 10]\n",
      "List 3 is ['key3', 15, 55]\n"
     ]
    }
   ],
   "source": [
    "list1 = [(\"key1\" , 5), (\"key2\", 10) ,(\"key3\" ,15,55)]\n",
    "print (f\"The list of tuples is {list1}\")\n",
    "print (f\"List 1 is {list(list1 [0])}\")\n",
    "print (f\"List 2 is {list(list1 [1])}\")\n",
    "print (f\"List 3 is {list(list1 [2])}\")"
   ]
  },
  {
   "cell_type": "markdown",
   "id": "99e81126-8d9e-4717-96f9-16bf514e8a31",
   "metadata": {},
   "source": [
    "### 15) Write a Python program to reverse a tuple."
   ]
  },
  {
   "cell_type": "code",
   "execution_count": 39,
   "id": "85154807-56b6-487e-bb56-681e07635d4a",
   "metadata": {},
   "outputs": [
    {
     "name": "stdout",
     "output_type": "stream",
     "text": [
      "Original tuple is ('Ahmed', 12, 58.6, False)\n",
      "Reversed Tupple is (False, 58.6, 12, 'Ahmed')\n"
     ]
    }
   ],
   "source": [
    "tuple1 = (\"Ahmed\" , 12, 58.6 , False)\n",
    "print (f\"Original tuple is {tuple1}\")\n",
    "x = list (tuple1)\n",
    "x.reverse()\n",
    "y = tuple (x)\n",
    "print (f\"Reversed Tupple is {y}\")"
   ]
  },
  {
   "cell_type": "markdown",
   "id": "0723853b-fb6d-4211-8033-8780947b40b5",
   "metadata": {},
   "source": [
    "### 16) Write a Python program to convert a list of tuples into a dictionary."
   ]
  },
  {
   "cell_type": "code",
   "execution_count": 40,
   "id": "1361a3df-c0f3-4f24-b3ed-a7ebaf1190d5",
   "metadata": {},
   "outputs": [
    {
     "name": "stdout",
     "output_type": "stream",
     "text": [
      "{'key1': 5, 'key2': 10, 'key3': 15}\n"
     ]
    }
   ],
   "source": [
    "list1 = [(\"key1\" , 5), (\"key2\", 10) ,(\"key3\" ,15)]\n",
    "dict1 = dict (list1)\n",
    "print (dict1)"
   ]
  },
  {
   "cell_type": "markdown",
   "id": "442f42b7-dbb7-4641-b096-e23aa9e48345",
   "metadata": {},
   "source": [
    "### 17) Write a Python program to replace the last value of tuples in a list."
   ]
  },
  {
   "cell_type": "code",
   "execution_count": 50,
   "id": "6cab9c24-e386-4e8a-bd51-2a39b7d8a9a7",
   "metadata": {},
   "outputs": [
    {
     "name": "stdout",
     "output_type": "stream",
     "text": [
      "Original list is [(10, 20, 40), (40, 50, 60), (70, 80, 90)]\n",
      "Edited list is [(10, 20, 100), (40, 50, 100), (70, 80, 100)]\n"
     ]
    }
   ],
   "source": [
    "list1 = [(10, 20, 40), (40, 50, 60), (70, 80, 90)]\n",
    "print (f\"Original list is {list1}\")\n",
    "list2 = [1,6,5]\n",
    "for x in range (3) :\n",
    "    y= list (list1 [x])\n",
    "    y[2] = 100 \n",
    "    z = tuple (y)\n",
    "    list2 [x] = z\n",
    "print (f\"Edited list is {list2}\")"
   ]
  },
  {
   "cell_type": "markdown",
   "id": "5c36a5eb-689d-4087-8321-2491914a45f3",
   "metadata": {},
   "source": [
    "### <span style='color: red;'>18) Write a Python program to sort a tuple by its float element</span>"
   ]
  },
  {
   "cell_type": "code",
   "execution_count": 57,
   "id": "52f57b6a-b991-45a9-8817-4b05ee3152e0",
   "metadata": {},
   "outputs": [],
   "source": [
    "tuple1 = [(\"Ahmed\", 18.265), (\"Ashraf\", 14.107) ,(\"Hussein\", 24.541), ('Saad', 4.256), ('Ali', 10.365)]\n",
    "#A Question"
   ]
  },
  {
   "cell_type": "code",
   "execution_count": 60,
   "id": "3d972bc4-0d77-4e5a-a222-9895219ac768",
   "metadata": {},
   "outputs": [
    {
     "name": "stdout",
     "output_type": "stream",
     "text": [
      "(10.5, 40.333, 50.6)\n"
     ]
    }
   ],
   "source": [
    "tuple1 = (10.5, 50.6, 40.333)\n",
    "x= list (tuple1)\n",
    "x.sort ()\n",
    "y = tuple (x)\n",
    "print (y)"
   ]
  },
  {
   "cell_type": "code",
   "execution_count": null,
   "id": "46faa996-901d-4757-8071-066fb727d78f",
   "metadata": {},
   "outputs": [],
   "source": []
  }
 ],
 "metadata": {
  "kernelspec": {
   "display_name": "Python 3 (ipykernel)",
   "language": "python",
   "name": "python3"
  },
  "language_info": {
   "codemirror_mode": {
    "name": "ipython",
    "version": 3
   },
   "file_extension": ".py",
   "mimetype": "text/x-python",
   "name": "python",
   "nbconvert_exporter": "python",
   "pygments_lexer": "ipython3",
   "version": "3.11.7"
  }
 },
 "nbformat": 4,
 "nbformat_minor": 5
}
