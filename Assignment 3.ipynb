{
 "cells": [
  {
   "cell_type": "markdown",
   "id": "1d869d27-266f-4112-b1a8-1f39671cc710",
   "metadata": {},
   "source": [
    "# **AI Diploma**\n"
   ]
  },
  {
   "cell_type": "markdown",
   "id": "94e2cd3a-0d65-4c6a-97ab-f1232e9aafeb",
   "metadata": {},
   "source": [
    "### **Python Programming**"
   ]
  },
  {
   "cell_type": "markdown",
   "id": "28fd742b-7e3e-4183-8d43-73de870d6470",
   "metadata": {},
   "source": [
    "### Assignment 3"
   ]
  },
  {
   "cell_type": "markdown",
   "id": "48d30341-baa9-44e1-b9da-e6e8496bfa61",
   "metadata": {},
   "source": [
    "<img src=\"https://th.bing.com/th/id/R.84611a9f16c2c2ebda65da14c5280e03?rik=YXFlHrjbBApRZQ&pid=ImgRaw&r=0\" alt=\"alternatetext\" style=\"width:1000px;\">"
   ]
  },
  {
   "cell_type": "markdown",
   "id": "0e81e3fd-0235-461b-bc10-7e54050d9c89",
   "metadata": {},
   "source": [
    "### 1) Program to count number of vowels using sets in given string"
   ]
  },
  {
   "cell_type": "code",
   "execution_count": 2,
   "id": "a7bb8376-a008-4616-be80-1f32a157c68f",
   "metadata": {},
   "outputs": [
    {
     "name": "stdout",
     "output_type": "stream",
     "text": [
      "Vowels Count Program\n"
     ]
    },
    {
     "name": "stdin",
     "output_type": "stream",
     "text": [
      "Please enter a statement Ahmed is an AI developer\n"
     ]
    },
    {
     "name": "stdout",
     "output_type": "stream",
     "text": [
      "Vowel Count = 10\n"
     ]
    }
   ],
   "source": [
    "\n",
    "def vowel_count (str) :\n",
    "    vowels = {'a','e','u','i','o','A','E','U','I','O'}\n",
    "    count = 0\n",
    "    \n",
    "    for i in stat :\n",
    "        if i in vowels :\n",
    "            count +=1\n",
    "    return count\n",
    "\n",
    "\n",
    "print (\"Vowels Count Program\")\n",
    "stat = input (\"Please enter a statement\")\n",
    "\n",
    "print (f\"Vowel Count = {vowel_count (stat)}\")\n",
    "    "
   ]
  },
  {
   "cell_type": "markdown",
   "id": "7a3652cc-c42f-4d41-8c5f-d47018205f6e",
   "metadata": {},
   "source": [
    "### 2) Write a Python program to add an item to a tuple"
   ]
  },
  {
   "cell_type": "code",
   "execution_count": 10,
   "id": "e94d9e35-a09a-484b-8996-e366f1af5178",
   "metadata": {},
   "outputs": [
    {
     "name": "stdout",
     "output_type": "stream",
     "text": [
      "The original tuple is ('Ahmed', 55, True, 'Amit')\n",
      "The modified tuple is ('Ahmed', 55, True, 'Amit', 'Hussein')\n"
     ]
    }
   ],
   "source": [
    "tuple1 = (\"Ahmed\", 55 , True , \"Amit\")\n",
    "print (f\"The original tuple is {tuple1}\")\n",
    "list1 = list (tuple1)\n",
    "list1.append (\"Hussein\")\n",
    "tuple2 = tuple (list1)\n",
    "print (f\"The modified tuple is {tuple2}\")"
   ]
  },
  {
   "cell_type": "markdown",
   "id": "bafd5cac-143f-4c5b-a0e2-f427635657aa",
   "metadata": {},
   "source": [
    "### 3) Write a Python program to multiply all the items in a list"
   ]
  },
  {
   "cell_type": "code",
   "execution_count": 21,
   "id": "06888df2-14a9-4dfe-9387-7f41dfed4258",
   "metadata": {},
   "outputs": [
    {
     "name": "stdin",
     "output_type": "stream",
     "text": [
      "Please enter the number of numbers to be multiplied 3\n",
      "Enter the number 4\n",
      "Enter the number 3\n",
      "Enter the number 3\n"
     ]
    },
    {
     "name": "stdout",
     "output_type": "stream",
     "text": [
      "The list of numbers is [4.0, 3.0, 3.0]\n",
      "The product = 36.0\n"
     ]
    }
   ],
   "source": [
    "len = int (input (\"Please enter the number of numbers to be multiplied\"))\n",
    "\n",
    "product = 1\n",
    "\n",
    "#How to write an empty list of specific size\n",
    "\n",
    "list1 = [None] * len\n",
    "\n",
    "\n",
    "for i in range (len) :\n",
    "    num = float (input (\"Enter the number\"))\n",
    "    list1 [i] = num\n",
    "\n",
    "print (f\"The list of numbers is {list1}\")\n",
    "\n",
    "#product series\n",
    "\n",
    "for i in list1:\n",
    "    product *= i\n",
    "\n",
    "print (f\"The product = {product}\")\n",
    "\n"
   ]
  },
  {
   "cell_type": "markdown",
   "id": "758bc32a-9565-4f46-a1e5-093bddd98220",
   "metadata": {},
   "source": [
    "### 4) Write a Python program to get the smallest number from a list"
   ]
  },
  {
   "cell_type": "code",
   "execution_count": 25,
   "id": "a07c02f7-66e1-4b25-99c8-9541f9c665a8",
   "metadata": {},
   "outputs": [
    {
     "name": "stdin",
     "output_type": "stream",
     "text": [
      "Please enter the length of the list 4\n",
      "Enter a number 2\n",
      "Enter a number 3\n",
      "Enter a number 77\n",
      "Enter a number 4\n"
     ]
    },
    {
     "name": "stdout",
     "output_type": "stream",
     "text": [
      "The list is [2.0, 3.0, 77.0, 4.0]\n",
      "The min value = 2.0 \n"
     ]
    }
   ],
   "source": [
    "len = int (input(\"Please enter the length of the list\"))\n",
    "\n",
    "list1 = [0] * len\n",
    "\n",
    "for i in range (len):\n",
    "    list1[i] = float (input (\"Enter a number\"))\n",
    "\n",
    "print (f'''The list is {list1}\n",
    "The min value = {min (list1)} ''')\n"
   ]
  },
  {
   "cell_type": "markdown",
   "id": "72b521ab-ea2b-42fd-8743-4e5bee4ffd3a",
   "metadata": {},
   "source": [
    "### 5) Write a Python program to get the largest number from a list"
   ]
  },
  {
   "cell_type": "code",
   "execution_count": 26,
   "id": "f45fbf6d-f0e3-435c-924a-15a7f6ac894d",
   "metadata": {},
   "outputs": [
    {
     "name": "stdin",
     "output_type": "stream",
     "text": [
      "Please enter the length of the list 4\n",
      "Enter a number 3\n",
      "Enter a number 44\n",
      "Enter a number 5\n",
      "Enter a number 44\n"
     ]
    },
    {
     "name": "stdout",
     "output_type": "stream",
     "text": [
      "The list is [3.0, 44.0, 5.0, 44.0]\n",
      "The largest value = 44.0 \n"
     ]
    }
   ],
   "source": [
    "len = int (input(\"Please enter the length of the list\"))\n",
    "\n",
    "list1 = [0] * len\n",
    "\n",
    "for i in range (len):\n",
    "    list1[i] = float (input (\"Enter a number\"))\n",
    "\n",
    "print (f'''The list is {list1}\n",
    "The largest value = {max (list1)} ''')"
   ]
  },
  {
   "cell_type": "markdown",
   "id": "d083da92-3fc2-4c01-ae55-6688f1b5c066",
   "metadata": {},
   "source": [
    "### 6) Write a Python program to clone or copy a list"
   ]
  },
  {
   "cell_type": "code",
   "execution_count": 10,
   "id": "e93d89bb-e8c4-4f41-8cd1-658d4f0eee34",
   "metadata": {},
   "outputs": [
    {
     "name": "stdout",
     "output_type": "stream",
     "text": [
      "Original list is [4, 55, True, 44.5]\n",
      "Deep copied list is [4, 3, True, 44.5]\n",
      "Shallow copied list is [4, 55, True, 44.5]\n"
     ]
    }
   ],
   "source": [
    "import copy\n",
    "\n",
    "list1 = [4,3 , True , 44.5]\n",
    "\n",
    "#Clone \n",
    "list_clone = list1 [:]\n",
    "\n",
    "#Copy\n",
    "list_copy = list1\n",
    "\n",
    "list1[1] = 55\n",
    "\n",
    "print (f\"Original list is {list1}\")\n",
    "print (f\"Deep copied list is {list_clone}\")\n",
    "print (f\"Shallow copied list is {list_copy}\")"
   ]
  },
  {
   "cell_type": "markdown",
   "id": "029df32f-367a-4801-9791-716ecbca2717",
   "metadata": {},
   "source": [
    "### 7) Write a Python program to remove item(s) from a given set.\n",
    "\n",
    "### s = set([0, 1, 3, 4, 5])"
   ]
  },
  {
   "cell_type": "code",
   "execution_count": 28,
   "id": "b9b94d71-b591-4860-bea8-9b4dec944187",
   "metadata": {},
   "outputs": [
    {
     "name": "stdout",
     "output_type": "stream",
     "text": [
      "The set is {0, 1, 3, 4, 5}\n"
     ]
    },
    {
     "name": "stdin",
     "output_type": "stream",
     "text": [
      "Enter the element to be removed 4\n"
     ]
    },
    {
     "name": "stdout",
     "output_type": "stream",
     "text": [
      "The Modified set is {0, 1, 3, 5}\n"
     ]
    }
   ],
   "source": [
    "s = set ([0,1,3,4,5])\n",
    "print (f\"The set is {s}\")\n",
    "x = int (input(\"Enter the element to be removed\"))\n",
    "s.discard (x)\n",
    "print (f\"The Modified set is {s}\")"
   ]
  },
  {
   "cell_type": "markdown",
   "id": "8cfee05d-95c9-4038-80a4-1cd058dd8477",
   "metadata": {},
   "source": [
    "### 8) Write a Python program to find the maximum and minimum values in a set"
   ]
  },
  {
   "cell_type": "code",
   "execution_count": 26,
   "id": "0de71561-9a2e-46eb-8195-3e920d4396a8",
   "metadata": {},
   "outputs": [
    {
     "name": "stdout",
     "output_type": "stream",
     "text": [
      "The set is {0, 1, 3, 4, 5}\n",
      "The max of the set is 5\n",
      "The min of the set is 0\n"
     ]
    }
   ],
   "source": [
    "s = set ([0,1,3,4,5])\n",
    "print (f\"The set is {s}\")\n",
    "print (f\"The max of the set is {max(s)}\")\n",
    "print (f\"The min of the set is {min(s)}\")"
   ]
  },
  {
   "cell_type": "markdown",
   "id": "ab759038-b804-4d8f-9de8-6f4ced55dedf",
   "metadata": {},
   "source": [
    "### 9) Write a Python program to convert a tuple to a dictionary.\n",
    "### dict1 = {}\n",
    "### tuple1 = (\"name\", \"age\", \"city\",\"city\")\n",
    "\n",
    "```\n",
    "# enumerate()\n",
    "```\n"
   ]
  },
  {
   "cell_type": "code",
   "execution_count": 36,
   "id": "e1ed5e44-2c3a-4e9a-8903-b1c6cd30d76d",
   "metadata": {},
   "outputs": [
    {
     "name": "stdout",
     "output_type": "stream",
     "text": [
      "{0: 'name', 1: 'age', 2: 'city', 3: 'city'}\n"
     ]
    }
   ],
   "source": [
    "tuple1 = (\"name\", \"age\", \"city\",\"city\")\n",
    "list_enu = list(enumerate (tuple1))\n",
    "print (dict (list_enu))"
   ]
  },
  {
   "cell_type": "markdown",
   "id": "8a5f9e5c-d334-4a3c-a60d-6a88bbc02a2f",
   "metadata": {},
   "source": [
    "### 10) Write a Python program to replace the last value of tuples in a list.\n",
    "\n",
    "### Sample list: [(10, 20, 40), (40, 50, 60), (70, 80, 90)]\n",
    "\n",
    "### Expected Output: [(10, 20, 100), (40, 50, 100), (70, 80, 100)]"
   ]
  },
  {
   "cell_type": "code",
   "execution_count": 76,
   "id": "941f3f9c-b2a6-46b9-a6a7-910671155bb4",
   "metadata": {},
   "outputs": [
    {
     "name": "stdout",
     "output_type": "stream",
     "text": [
      "[(10, 20, 100), (40, 50, 100), (70, 80, 100)]\n"
     ]
    }
   ],
   "source": [
    "list1 = [(10, 20, 40), (40, 50, 60), (70, 80, 90)]\n",
    "list2 = [0]*3\n",
    "\n",
    "y=len(list1)\n",
    "\n",
    "for i in range (y):\n",
    "    x = list(list1[i])\n",
    "    x[2] = 100\n",
    "    k = tuple(x)\n",
    "    list2 [i] = k\n",
    "\n",
    "print (list2)"
   ]
  },
  {
   "cell_type": "markdown",
   "id": "570f4c4b-2f9a-4419-a017-b228443aa932",
   "metadata": {},
   "source": [
    "### 11) Write a Python function that takes a sequence of numbers and determines whether all the numbers are different from each other."
   ]
  },
  {
   "cell_type": "markdown",
   "id": "89987ce8-eb60-4bb4-a8cb-fa78d81dbbe7",
   "metadata": {},
   "source": [
    "<img src=\"https://www.w3resource.com/w3r_images/python-basic-1-image-exercise-1.png\" alt=\"Girl in a jacket\" width=\"500\" height=\"600\">"
   ]
  },
  {
   "cell_type": "code",
   "execution_count": 47,
   "id": "e6c46494-7388-4d04-bb8c-9c42c6df1e87",
   "metadata": {},
   "outputs": [
    {
     "name": "stdout",
     "output_type": "stream",
     "text": [
      "The list isnot unique\n"
     ]
    }
   ],
   "source": [
    "list1 = [2,4,5,7,9,7]\n",
    "set1 = set (list1)\n",
    "\n",
    "if len (list1) == len (set1) :\n",
    "    print (\"The list is unique\")\n",
    "\n",
    "else : \n",
    "    print (\"The list isnot unique\")"
   ]
  },
  {
   "cell_type": "markdown",
   "id": "58ff357e-1656-43c4-bbd2-9084eb53d1f1",
   "metadata": {},
   "source": [
    "##  >>> PDF Assignment"
   ]
  },
  {
   "cell_type": "markdown",
   "id": "9a2ebaa3-2bcc-4a3f-8b88-b10e75becabd",
   "metadata": {},
   "source": [
    "### 1) Implement Fibonacci series using recursion."
   ]
  },
  {
   "cell_type": "code",
   "execution_count": 25,
   "id": "87063f03-6455-47d6-911e-6e7dbba5bf7d",
   "metadata": {},
   "outputs": [
    {
     "name": "stdin",
     "output_type": "stream",
     "text": [
      "Enter the number of terms of Fibonacci Series 9\n"
     ]
    },
    {
     "name": "stdout",
     "output_type": "stream",
     "text": [
      "0 1 1 2 3 5 8 13 21 "
     ]
    }
   ],
   "source": [
    "def fib(n, prev1, prev2):\n",
    "    if n < 3:\n",
    "        return\n",
    "    fn = prev1 + prev2\n",
    "    prev1 = prev2\n",
    "    prev2 = fn\n",
    "    print(fn, end=\" \")\n",
    "    fib(n - 1, prev1, prev2)\n",
    "\n",
    "def fib_print (n) :\n",
    "    if n < 0 :\n",
    "        print (\"The number entered isn't valid\")\n",
    "    if n == 0 :\n",
    "        print (\"0\")\n",
    "    else :\n",
    "     print (\"0 1\", end=\" \")\n",
    "    fib (n,0,1)\n",
    "        \n",
    "n = int (input(\"Enter the number of terms of Fibonacci Series\"))\n",
    "fib_print (n)"
   ]
  },
  {
   "cell_type": "markdown",
   "id": "e957efc9-abd6-4906-b9ca-a3e2e6dbe2ad",
   "metadata": {},
   "source": [
    "### 2) Write a Python program to find all the unique words and count the frequency of occurrence from a given list of strings."
   ]
  },
  {
   "cell_type": "code",
   "execution_count": 54,
   "id": "962fd5e9-c146-44e5-bfed-963a2427390e",
   "metadata": {},
   "outputs": [
    {
     "name": "stdout",
     "output_type": "stream",
     "text": [
      "The list is ['Ahmed', 'Ashraf', 'AI', 'Ahmed', 'AI', 'Hussein', 'Amit', 'AI', 'Amit']\n"
     ]
    },
    {
     "name": "stdin",
     "output_type": "stream",
     "text": [
      "Enter the string to check uniqness Ahmed\n"
     ]
    },
    {
     "name": "stdout",
     "output_type": "stream",
     "text": [
      "Ahmed is repeated 2 times\n"
     ]
    }
   ],
   "source": [
    "def word_count (list_str,str) :\n",
    "    if list_str.count (str) == 1 :\n",
    "        print (f\"{str} is unique\")\n",
    "    elif list_str.count (str) == 0:\n",
    "        print (f\"{str} isnot in the list\")\n",
    "    else :\n",
    "         print (f\"{str} is repeated {list_str.count (str)} times\")\n",
    "\n",
    "list_str1 = [\"Ahmed\" , \"Ashraf\" , \"AI\", \"Ahmed\", \"AI\" , \"Hussein\" , \"Amit\",\"AI\" , \"Amit\"]\n",
    "print (f\"The list is {list_str}\")\n",
    "str1 = input (\"Enter the string to check uniqness\")\n",
    "word_count (list_str1, str1)"
   ]
  },
  {
   "cell_type": "markdown",
   "id": "95368e61-b0f7-4eaf-94a1-2550aeb0d4f8",
   "metadata": {},
   "source": [
    "### 3) Write a Python program that finds all pairs of elements in a list whose sum is equal to a given value."
   ]
  },
  {
   "cell_type": "code",
   "execution_count": 74,
   "id": "7e987843-8c32-411e-918a-f594da80b8e3",
   "metadata": {},
   "outputs": [
    {
     "name": "stdout",
     "output_type": "stream",
     "text": [
      "The list is [1, 3, 4, 5, 6, 2, 10, 7, 9, 12, 11, 0]\n"
     ]
    },
    {
     "name": "stdin",
     "output_type": "stream",
     "text": [
      "Enter the sum number 7\n"
     ]
    },
    {
     "name": "stdout",
     "output_type": "stream",
     "text": [
      "[(0, 7), (1, 6), (2, 5), (3, 4), (4, 3), (5, 2), (6, 1), (7, 0)]\n"
     ]
    }
   ],
   "source": [
    "def target_sum (lst , target) :\n",
    "    y=[]\n",
    "    for i in lst :\n",
    "        n = target - i\n",
    "        if n in lst :\n",
    "            y.append ((i,n))                     \n",
    "    \n",
    "    print (y)\n",
    "            \n",
    "list1 = [1,3,4,5,6,2,10,7,9,12,11,0]\n",
    "print (f\"The list is {list1}\")\n",
    "list1.sort()\n",
    "target = int (input(\"Enter the sum number\"))\n",
    "\n",
    "if target > list1[-1] + list1[-2] :\n",
    "    print (\"The target number is over\")\n",
    "else :\n",
    "    target_sum (list1 , target)"
   ]
  },
  {
   "cell_type": "markdown",
   "id": "387a0295-49b1-452d-a419-fe5336b29879",
   "metadata": {},
   "source": [
    "### 4) Write a Python program to find the two numbers whose product is maximum among all the pairs in a given list of numbers"
   ]
  },
  {
   "cell_type": "code",
   "execution_count": 4,
   "id": "1cdad329-c0bb-49fb-8503-5532251c9a9b",
   "metadata": {},
   "outputs": [
    {
     "name": "stdout",
     "output_type": "stream",
     "text": [
      "(50, 22)\n"
     ]
    }
   ],
   "source": [
    "def max_product (lst):\n",
    "    maxproduct = 0\n",
    "    for n1 in lst :\n",
    "        for n2 in lst :\n",
    "            if  n1!=n2 and n1*n2>maxproduct:\n",
    "                maxproduct = n1*n2\n",
    "                max_n1 = n1\n",
    "                max_n2 = n2\n",
    "\n",
    "    return (max_n1, max_n2)\n",
    "\n",
    "list1 = [1,3,4,50,6,2,7,9,12,12,22]\n",
    "print (max_product (list1))                   "
   ]
  },
  {
   "cell_type": "markdown",
   "id": "acab4020-e29b-4e7b-9f37-e37abb15fc28",
   "metadata": {},
   "source": [
    "### /////5) Write a Python function that takes a number as a parameter and checks whether the number is prime or not."
   ]
  },
  {
   "cell_type": "code",
   "execution_count": null,
   "id": "f0947208-24a3-4584-9c2e-9cfe568ccef7",
   "metadata": {},
   "outputs": [],
   "source": [
    "# Define a function named 'test_prime' that checks if a number 'n' is a prime number\n",
    "def test_prime(n):\n",
    "    # Check if 'n' is equal to 1\n",
    "    if (n == 1):\n",
    "        # If 'n' is 1, return False (1 is not a prime number)\n",
    "        return False\n",
    "    # Check if 'n' is equal to 2\n",
    "    elif (n == 2):\n",
    "        # If 'n' is 2, return True (2 is a prime number)\n",
    "        return True\n",
    "    else:\n",
    "        # Iterate through numbers from 2 to (n-1) using 'x' as the iterator\n",
    "        for x in range(2, n):\n",
    "            # Check if 'n' is divisible by 'x' without any remainder\n",
    "            if (n % x == 0):\n",
    "                # If 'n' is divisible by 'x', return False (not a prime number)\n",
    "                return False\n",
    "        # If 'n' is not divisible by any number from 2 to (n-1), return True (prime number)\n",
    "        return True\n",
    "\n",
    "# Print the result of checking if 9 is a prime number by calling the 'test_prime' function\n",
    "print(test_prime(9))"
   ]
  },
  {
   "cell_type": "markdown",
   "id": "909de1e5-4372-46e4-8f07-c1acc59e6573",
   "metadata": {},
   "source": [
    "### 6) Write a Python function to print the even numbers from a given list."
   ]
  },
  {
   "cell_type": "code",
   "execution_count": 81,
   "id": "75076f05-d17e-469b-a1d1-e5dc80897043",
   "metadata": {},
   "outputs": [
    {
     "name": "stdout",
     "output_type": "stream",
     "text": [
      "The even numbers are [4, 6, 2, 10, 12, 22, 334]\n"
     ]
    }
   ],
   "source": [
    "y=[]\n",
    "def even (lst) :\n",
    "    for i in lst :\n",
    "        if i%2 == 0 and i!=0 :\n",
    "            y.append (i)\n",
    "\n",
    "    print (f\"The even numbers are {y}\")\n",
    "\n",
    "list1 = [1,3,4,5,6,2,10,7,9,12,11,22,323,334]\n",
    "even (list1)"
   ]
  },
  {
   "cell_type": "markdown",
   "id": "f179a720-84b3-4d66-bdf8-f03bbe10c650",
   "metadata": {},
   "source": [
    "### 7) Write a function that will take a given string and reverse the order of words.\r\n",
    "Ex:\r\n",
    "“Hello world” →”world Hello”"
   ]
  },
  {
   "cell_type": "code",
   "execution_count": 92,
   "id": "a0a54005-dcae-41a5-b271-5c8c4e2a3461",
   "metadata": {},
   "outputs": [
    {
     "name": "stdin",
     "output_type": "stream",
     "text": [
      "Enter the statement Ahmed Ashraf\n"
     ]
    },
    {
     "data": {
      "text/plain": [
       "'Ashraf Ahmed'"
      ]
     },
     "execution_count": 92,
     "metadata": {},
     "output_type": "execute_result"
    }
   ],
   "source": [
    "def reverse (str):\n",
    "    y = str.split(\" \")\n",
    "    str_r = ' '.join (y [::-1])\n",
    "    return str_r\n",
    "\n",
    "str = input (\"Enter the statement\")\n",
    "reverse (str)\n",
    "    "
   ]
  },
  {
   "cell_type": "markdown",
   "id": "7b38bcd4-77ff-405a-88fb-0220ddbbe88c",
   "metadata": {},
   "source": [
    "### 8) Given an integer x, return true if x is a palindrome, and false otherwise. \n",
    "Example 1: Input: x = 121 \n",
    "\n",
    "Output: true \n",
    "\n",
    "Explanation: 121 reads as 121 from left to right and from right to left. \n",
    "\n",
    "Example 2: Input: x = -121 \n",
    "\n",
    "Output: false \n",
    "\n",
    "xplanation: From left to right, it reads -121. From right to left, it becomes 121-. Therefore, it is not a palindrome. \n",
    "\n",
    "Example 3: Input: x = 10 \n",
    "\n",
    "Output: false \n",
    "\n",
    "Explanation: Reads 01 from right to left. Therefore, it is not a palindrome."
   ]
  },
  {
   "cell_type": "code",
   "execution_count": 17,
   "id": "e358bc12-9c24-4038-b423-9e80947782d9",
   "metadata": {},
   "outputs": [
    {
     "name": "stdout",
     "output_type": "stream",
     "text": [
      "Program to check number is palindrome or not =\n"
     ]
    },
    {
     "name": "stdin",
     "output_type": "stream",
     "text": [
      "Enter a number 5005\n"
     ]
    },
    {
     "name": "stdout",
     "output_type": "stream",
     "text": [
      "The number is palindrome\n"
     ]
    },
    {
     "data": {
      "text/plain": [
       "True"
      ]
     },
     "execution_count": 17,
     "metadata": {},
     "output_type": "execute_result"
    }
   ],
   "source": [
    "def palin (num) :\n",
    "    str1 = str(num)\n",
    "    str_reversed = str1 [::-1]\n",
    "    if str1 == str_reversed :\n",
    "        print (\"The number is palindrome\")\n",
    "        return True\n",
    "    else :\n",
    "        print (\"The number isn't palindrome\")\n",
    "        return False\n",
    "\n",
    "print (\"Program to check number is palindrome or not =\")\n",
    "n = int (input(\"Enter a number\"))\n",
    "palin (n)"
   ]
  },
  {
   "cell_type": "markdown",
   "id": "8e87027d-f3f4-46c3-866e-c5898e67e00f",
   "metadata": {},
   "source": [
    "### 9) Write a Python function that checks whether a passed string is a palindrome or not."
   ]
  },
  {
   "cell_type": "code",
   "execution_count": 20,
   "id": "80dadd51-1438-48da-a8e4-d119a68db916",
   "metadata": {},
   "outputs": [
    {
     "name": "stdout",
     "output_type": "stream",
     "text": [
      "Program to check string is palindrome or not =\n"
     ]
    },
    {
     "name": "stdin",
     "output_type": "stream",
     "text": [
      "Enter a string zooz zooz\n"
     ]
    },
    {
     "name": "stdout",
     "output_type": "stream",
     "text": [
      "The string is palindrome\n"
     ]
    }
   ],
   "source": [
    "def palin (str1) :\n",
    "    str_reversed = str1 [::-1]\n",
    "    if str1 == str_reversed :\n",
    "        print (\"The string is palindrome\")\n",
    "        \n",
    "    else :\n",
    "        print (\"The string isn't palindrome\")\n",
    "        \n",
    "\n",
    "print (\"Program to check string is palindrome or not =\")\n",
    "n = (input(\"Enter a string\"))\n",
    "palin (n)"
   ]
  },
  {
   "cell_type": "markdown",
   "id": "5bc9eda9-e698-48f3-9de4-7adcda6262c6",
   "metadata": {},
   "source": [
    "### 10) Write a Python function to create and print a list where the values are the squares of numbers between 1 and 30 (both included)."
   ]
  },
  {
   "cell_type": "code",
   "execution_count": 33,
   "id": "e655053e-504f-4da2-a4ef-f81d5b32e709",
   "metadata": {},
   "outputs": [
    {
     "name": "stdout",
     "output_type": "stream",
     "text": [
      "[1, 2, 3, 4, 5, 6, 7, 8, 9, 10, 11, 12, 13, 14, 15, 16, 17, 18, 19, 20, 21, 22, 23, 24, 25, 26, 27, 28, 29, 30]\n",
      "[1, 4, 9, 16, 25, 36, 49, 64, 81, 100, 121, 144, 169, 196, 225, 256, 289, 324, 361, 400, 441, 484, 529, 576, 625, 676, 729, 784, 841, 900]\n"
     ]
    }
   ],
   "source": [
    "def square (lst) :\n",
    "    y=[]\n",
    "    for i in lst :\n",
    "        y.append (i**2) \n",
    "    print (y)\n",
    "\n",
    "print (list(range(1,31)))\n",
    "square (list(range(1,31)))\n"
   ]
  },
  {
   "cell_type": "markdown",
   "id": "b0c978ac-2aa9-42dd-b5af-081c9c63133a",
   "metadata": {},
   "source": [
    "### /////11) Write a Python function to generate all permutations of a list."
   ]
  },
  {
   "cell_type": "code",
   "execution_count": null,
   "id": "28712777-1cce-4263-a78e-68ed7b3ea94b",
   "metadata": {},
   "outputs": [],
   "source": [
    "# Python function to print permutations of a given list\n",
    "def permutation(lst):\n",
    " \n",
    "    # If lst is empty then there are no permutations\n",
    "    if len(lst) == 0:\n",
    "        return []\n",
    " \n",
    "    # If there is only one element in lst then, only\n",
    "    # one permutation is possible\n",
    "    if len(lst) == 1:\n",
    "        return [lst]\n",
    " \n",
    "    # Find the permutations for lst if there are\n",
    "    # more than 1 characters\n",
    " \n",
    "    l = [] # empty list that will store current permutation\n",
    " \n",
    "    # Iterate the input(lst) and calculate the permutation\n",
    "    for i in range(len(lst)):\n",
    "       m = lst[i]\n",
    " \n",
    "       # Extract lst[i] or m from the list.  remLst is\n",
    "       # remaining list\n",
    "       remLst = lst[:i] + lst[i+1:]\n",
    " \n",
    "       # Generating all permutations where m is first\n",
    "       # element\n",
    "       for p in permutation(remLst):\n",
    "           l.append([m] + p)\n",
    "    return l\n",
    " \n",
    " \n",
    "# Driver program to test above function\n",
    "data = list('123')\n",
    "for p in permutation(data):\n",
    "    print (p)"
   ]
  },
  {
   "cell_type": "markdown",
   "id": "18cfc05c-6427-4b56-bef3-8d50dcf77996",
   "metadata": {},
   "source": [
    "### 12) Write a Python program to access a function inside a function."
   ]
  },
  {
   "cell_type": "code",
   "execution_count": 3,
   "id": "91c1abf9-d5d9-4f93-a943-e30977e245c1",
   "metadata": {},
   "outputs": [
    {
     "data": {
      "text/plain": [
       "44"
      ]
     },
     "execution_count": 3,
     "metadata": {},
     "output_type": "execute_result"
    }
   ],
   "source": [
    "def function_1 (n):\n",
    "    return lambda a :a*n\n",
    "\n",
    "function1 = function_1 (4)\n",
    "function1 (11)"
   ]
  },
  {
   "cell_type": "markdown",
   "id": "3aeebeea-2d28-45b2-8367-5ffc3c7d2cc5",
   "metadata": {},
   "source": [
    "### 13) Write a Python program to sort a tuple by its float element"
   ]
  },
  {
   "cell_type": "code",
   "execution_count": 2,
   "id": "6f70784c-007b-4e61-a200-66131638dc23",
   "metadata": {},
   "outputs": [
    {
     "name": "stdout",
     "output_type": "stream",
     "text": [
      "[('Hussein', 24.541), ('Ahmed', 18.265), ('Ashraf', 14.107), ('Ali', 10.365), ('Saad', 4.256)]\n"
     ]
    }
   ],
   "source": [
    "def sort_tuples (lst) :\n",
    "   return sorted (lst ,key= lambda x:x[1], reverse =True)\n",
    "    \n",
    "\n",
    "list1 = [(\"Ahmed\", 18.265), (\"Ashraf\", 14.107) ,(\"Hussein\", 24.541), ('Saad', 4.256), ('Ali', 10.365)]\n",
    "\n",
    "print (sort_tuples (list1))"
   ]
  },
  {
   "cell_type": "code",
   "execution_count": null,
   "id": "962692b0-22fe-4835-b5ae-2b66e207d247",
   "metadata": {},
   "outputs": [],
   "source": []
  }
 ],
 "metadata": {
  "kernelspec": {
   "display_name": "Python 3 (ipykernel)",
   "language": "python",
   "name": "python3"
  },
  "language_info": {
   "codemirror_mode": {
    "name": "ipython",
    "version": 3
   },
   "file_extension": ".py",
   "mimetype": "text/x-python",
   "name": "python",
   "nbconvert_exporter": "python",
   "pygments_lexer": "ipython3",
   "version": "3.11.7"
  }
 },
 "nbformat": 4,
 "nbformat_minor": 5
}
