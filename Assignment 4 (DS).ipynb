{
 "cells": [
  {
   "cell_type": "markdown",
   "id": "1d869d27-266f-4112-b1a8-1f39671cc710",
   "metadata": {},
   "source": [
    "# **AI Diploma**\n"
   ]
  },
  {
   "cell_type": "markdown",
   "id": "94e2cd3a-0d65-4c6a-97ab-f1232e9aafeb",
   "metadata": {},
   "source": [
    "### **Data Science**"
   ]
  },
  {
   "cell_type": "markdown",
   "id": "28fd742b-7e3e-4183-8d43-73de870d6470",
   "metadata": {},
   "source": [
    "### Assignment 4 (DS)"
   ]
  },
  {
   "cell_type": "markdown",
   "id": "48d30341-baa9-44e1-b9da-e6e8496bfa61",
   "metadata": {},
   "source": [
    "<img src=\"https://th.bing.com/th/id/R.84611a9f16c2c2ebda65da14c5280e03?rik=YXFlHrjbBApRZQ&pid=ImgRaw&r=0\" alt=\"alternatetext\" style=\"width:1000px;\">"
   ]
  },
  {
   "cell_type": "code",
   "execution_count": 2,
   "id": "ff792dc5-063d-4324-8fc0-eda964972bd4",
   "metadata": {},
   "outputs": [],
   "source": [
    "import numpy as np\n",
    "import pandas as pd"
   ]
  },
  {
   "cell_type": "markdown",
   "id": "0e81e3fd-0235-461b-bc10-7e54050d9c89",
   "metadata": {},
   "source": [
    "### 1) Write a Pandas program to create and display a one-dimensional array-like object containing an array of data using Pandas module."
   ]
  },
  {
   "cell_type": "code",
   "execution_count": 26,
   "id": "4ef8f164-5461-4208-810b-1a8a140613ea",
   "metadata": {},
   "outputs": [
    {
     "data": {
      "text/plain": [
       "pandas.core.frame.DataFrame"
      ]
     },
     "execution_count": 26,
     "metadata": {},
     "output_type": "execute_result"
    }
   ],
   "source": [
    "arr1 = np.array ([['Ahmed',173,80,'01007536758'],\n",
    "                 ['Ashraf',176,95,'01284990343']])\n",
    "df = pd.DataFrame (arr1, columns = ['Name', 'Height','Weight','Mobile'])\n",
    "type(df)"
   ]
  },
  {
   "cell_type": "markdown",
   "id": "7a3652cc-c42f-4d41-8c5f-d47018205f6e",
   "metadata": {},
   "source": [
    "### 2) Write a Pandas program to convert a Panda module Series to Python list and it's type."
   ]
  },
  {
   "cell_type": "code",
   "execution_count": 33,
   "id": "52fd86fa-adf8-44dd-8466-90d33198a6a4",
   "metadata": {},
   "outputs": [
    {
     "name": "stdout",
     "output_type": "stream",
     "text": [
      "['Ashraf', '176', '95', '01284990343']\n"
     ]
    },
    {
     "data": {
      "text/plain": [
       "list"
      ]
     },
     "execution_count": 33,
     "metadata": {},
     "output_type": "execute_result"
    }
   ],
   "source": [
    "df2 = list(df.loc[1])\n",
    "print (df2)\n",
    "type(df2)"
   ]
  },
  {
   "cell_type": "markdown",
   "id": "bafd5cac-143f-4c5b-a0e2-f427635657aa",
   "metadata": {},
   "source": [
    "### 3) Write a Pandas program to compare the elements of the two Pandas Series."
   ]
  },
  {
   "cell_type": "code",
   "execution_count": 45,
   "id": "1124dbe0-b96c-4a08-8db4-4b6737608525",
   "metadata": {},
   "outputs": [
    {
     "name": "stdout",
     "output_type": "stream",
     "text": [
      "0    False\n",
      "1    False\n",
      "2    False\n",
      "3     True\n",
      "4     True\n",
      "dtype: bool\n",
      "0     True\n",
      "1     True\n",
      "2    False\n",
      "3    False\n",
      "4    False\n",
      "dtype: bool\n",
      "0    False\n",
      "1    False\n",
      "2     True\n",
      "3    False\n",
      "4    False\n",
      "dtype: bool\n"
     ]
    }
   ],
   "source": [
    "series1 = pd.Series([1, 2, 3, 4, 5])\n",
    "series2 = pd.Series([5, 4, 3, 2, 1])\n",
    "\n",
    "greater = series1>series2\n",
    "print (greater)\n",
    "less = series1<series2\n",
    "print (less)\n",
    "equal = series1==series2\n",
    "print (equal)\n"
   ]
  },
  {
   "cell_type": "markdown",
   "id": "72b521ab-ea2b-42fd-8743-4e5bee4ffd3a",
   "metadata": {},
   "source": [
    "### 4) Write a Pandas program to change the data type of given a column or a Series."
   ]
  },
  {
   "cell_type": "code",
   "execution_count": 48,
   "id": "7782a6dc-e88c-4917-a8c0-c0de921e40e3",
   "metadata": {},
   "outputs": [
    {
     "name": "stdout",
     "output_type": "stream",
     "text": [
      "<class 'list'>\n"
     ]
    }
   ],
   "source": [
    "series2 = pd.Series([5, 4, 3, 2, 1])\n",
    "series3=list(series2)\n",
    "print (type(series3))"
   ]
  },
  {
   "cell_type": "markdown",
   "id": "758bc32a-9565-4f46-a1e5-093bddd98220",
   "metadata": {},
   "source": [
    "### 5) Write a Pandas program to get the powers of an array values element-wise. Note: First array elements raised to powers from second array Sample data: {'X':[78,85,96,80,86], 'Y':[84,94,89,83,86],'Z':[86,97,96,72,83]}\r\n",
    "Expected Output:\r\n",
    "X Y Z 0 78 84 86 1 85 94 97 2 96 89 96 3 80 83 72 4 86 86 83"
   ]
  },
  {
   "cell_type": "code",
   "execution_count": 6,
   "id": "3c68c1f6-453e-4de6-b648-222a352052b1",
   "metadata": {},
   "outputs": [
    {
     "data": {
      "text/html": [
       "<div>\n",
       "<style scoped>\n",
       "    .dataframe tbody tr th:only-of-type {\n",
       "        vertical-align: middle;\n",
       "    }\n",
       "\n",
       "    .dataframe tbody tr th {\n",
       "        vertical-align: top;\n",
       "    }\n",
       "\n",
       "    .dataframe thead th {\n",
       "        text-align: right;\n",
       "    }\n",
       "</style>\n",
       "<table border=\"1\" class=\"dataframe\">\n",
       "  <thead>\n",
       "    <tr style=\"text-align: right;\">\n",
       "      <th></th>\n",
       "      <th>X</th>\n",
       "      <th>Y</th>\n",
       "      <th>Z</th>\n",
       "    </tr>\n",
       "  </thead>\n",
       "  <tbody>\n",
       "    <tr>\n",
       "      <th>0</th>\n",
       "      <td>6084</td>\n",
       "      <td>7056</td>\n",
       "      <td>7396</td>\n",
       "    </tr>\n",
       "    <tr>\n",
       "      <th>1</th>\n",
       "      <td>7225</td>\n",
       "      <td>8836</td>\n",
       "      <td>9409</td>\n",
       "    </tr>\n",
       "    <tr>\n",
       "      <th>2</th>\n",
       "      <td>9216</td>\n",
       "      <td>7921</td>\n",
       "      <td>9216</td>\n",
       "    </tr>\n",
       "    <tr>\n",
       "      <th>3</th>\n",
       "      <td>6400</td>\n",
       "      <td>6889</td>\n",
       "      <td>5184</td>\n",
       "    </tr>\n",
       "    <tr>\n",
       "      <th>4</th>\n",
       "      <td>7396</td>\n",
       "      <td>7396</td>\n",
       "      <td>6889</td>\n",
       "    </tr>\n",
       "  </tbody>\n",
       "</table>\n",
       "</div>"
      ],
      "text/plain": [
       "      X     Y     Z\n",
       "0  6084  7056  7396\n",
       "1  7225  8836  9409\n",
       "2  9216  7921  9216\n",
       "3  6400  6889  5184\n",
       "4  7396  7396  6889"
      ]
     },
     "execution_count": 6,
     "metadata": {},
     "output_type": "execute_result"
    }
   ],
   "source": [
    "data= {'X':[78,85,96,80,86], 'Y':[84,94,89,83,86],'Z':[86,97,96,72,83]}\n",
    "\n",
    "f=lambda x : x*x\n",
    "\n",
    "df = pd.DataFrame (data)\n",
    "df=df.apply (f)\n",
    "df"
   ]
  },
  {
   "cell_type": "markdown",
   "id": "d083da92-3fc2-4c01-ae55-6688f1b5c066",
   "metadata": {},
   "source": [
    "### 6) Write a Pandas program to get the first 3 rows of a given DataFrame. Sample Python dictionary data and list labels:\r\n",
    "exam_data = {'name': ['Anastasia', 'Dima', 'Katherine', 'James', 'Emily', 'Michael', 'Matthew', 'Laura', 'Kevin', 'Jonas'], 'score': [12.5, 9, 16.5, np.nan, 9, 20, 14.5, np.nan, 8, 19], 'attempts': [1, 3, 2, 3, 2, 3, 1, 1, 2, 1], 'qualify': ['yes', 'no', 'yes', 'no', 'no', 'yes', 'yes', 'no', 'no', 'yes']} labels = ['a', 'b', 'c', 'd', 'e', 'f', 'g', 'h', 'i', 'j']\r\n",
    "Expected Output:\r\n",
    "First three rows of the data frame: attempts name qualify score a 1 Anastasia yes 12.5 b 3 Dima no 9.0 c 2 Katherine yes 1\n",
    "\n",
    "Test Data:\r\n",
    "0\r\n",
    "Streat1\r\n",
    "S001\r\n",
    "V\r\n",
    "Alberto\r\n",
    "Franco\r\n",
    "15/05/2002\r\n",
    "35\r\n",
    "1\r\n",
    "Streat2\r\n",
    "S002\r\n",
    "V\r\n",
    "Gino\r\n",
    "Mcneill\r\n",
    "17/05/2002\r\n",
    "32\r\n",
    "2\r\n",
    "Streat3\r\n",
    "S003\r\n",
    "VI\r\n",
    "Ryan\r\n",
    "Parkes\r\n",
    "16/02/1999\r\n",
    "33\r\n",
    "3\r\n",
    "Streat4\r\n",
    "S004\r\n",
    "VI\r\n",
    "Eesha\r\n",
    "Hinton\r\n",
    "25/09/1998\r\n",
    "30\r\n",
    "4\r\n",
    "Streat5\r\n",
    "S005\r\n",
    "V\r\n",
    "Gino\r\n",
    "Mcneill\r\n",
    "11/05/2002\r\n",
    "31\r\n",
    "5\r\n",
    "Streat6\r\n",
    "S006\r\n",
    "VI\r\n",
    "David\r\n",
    "Parkes\r\n",
    "15/09/1997\r\n",
    "326.5"
   ]
  },
  {
   "cell_type": "code",
   "execution_count": 67,
   "id": "2a5acbec-66bc-499c-893a-e82306d96a8e",
   "metadata": {},
   "outputs": [
    {
     "data": {
      "text/html": [
       "<div>\n",
       "<style scoped>\n",
       "    .dataframe tbody tr th:only-of-type {\n",
       "        vertical-align: middle;\n",
       "    }\n",
       "\n",
       "    .dataframe tbody tr th {\n",
       "        vertical-align: top;\n",
       "    }\n",
       "\n",
       "    .dataframe thead th {\n",
       "        text-align: right;\n",
       "    }\n",
       "</style>\n",
       "<table border=\"1\" class=\"dataframe\">\n",
       "  <thead>\n",
       "    <tr style=\"text-align: right;\">\n",
       "      <th></th>\n",
       "      <th>attempts</th>\n",
       "      <th>score</th>\n",
       "      <th>name</th>\n",
       "      <th>qualify</th>\n",
       "    </tr>\n",
       "  </thead>\n",
       "  <tbody>\n",
       "    <tr>\n",
       "      <th>a</th>\n",
       "      <td>1</td>\n",
       "      <td>12.5</td>\n",
       "      <td>Anastasia</td>\n",
       "      <td>yes</td>\n",
       "    </tr>\n",
       "    <tr>\n",
       "      <th>b</th>\n",
       "      <td>3</td>\n",
       "      <td>9.0</td>\n",
       "      <td>Dima</td>\n",
       "      <td>no</td>\n",
       "    </tr>\n",
       "    <tr>\n",
       "      <th>c</th>\n",
       "      <td>2</td>\n",
       "      <td>16.5</td>\n",
       "      <td>Katherine</td>\n",
       "      <td>yes</td>\n",
       "    </tr>\n",
       "  </tbody>\n",
       "</table>\n",
       "</div>"
      ],
      "text/plain": [
       "   attempts  score       name qualify\n",
       "a         1   12.5  Anastasia     yes\n",
       "b         3    9.0       Dima      no\n",
       "c         2   16.5  Katherine     yes"
      ]
     },
     "execution_count": 67,
     "metadata": {},
     "output_type": "execute_result"
    }
   ],
   "source": [
    "exam_data = {'name': ['Anastasia', 'Dima', 'Katherine', 'James', 'Emily', 'Michael', 'Matthew', 'Laura', 'Kevin', 'Jonas'],\n",
    "             'score': [12.5, 9, 16.5, np.nan, 9, 20, 14.5, np.nan, 8, 19],\n",
    "             'attempts': [1, 3, 2, 3, 2, 3, 1, 1, 2, 1],\n",
    "             'qualify': ['yes', 'no', 'yes', 'no', 'no', 'yes', 'yes', 'no', 'no', 'yes']} \n",
    "\n",
    "labels = ['a', 'b', 'c', 'd', 'e', 'f', 'g', 'h', 'i', 'j']\n",
    "\n",
    "df = pd.DataFrame (exam_data , index = labels)\n",
    "\n",
    "df = df.reindex(columns = ['attempts','score','name','qualify'])\n",
    "df.head(3)"
   ]
  },
  {
   "cell_type": "markdown",
   "id": "029df32f-367a-4801-9791-716ecbca2717",
   "metadata": {},
   "source": [
    "### 7) Write a Pandas program to display the default index and set a column as an Index in a given dataframe."
   ]
  },
  {
   "cell_type": "code",
   "execution_count": 28,
   "id": "0df28a94-58b3-4d0e-b758-f058e337d145",
   "metadata": {},
   "outputs": [
    {
     "data": {
      "text/html": [
       "<div>\n",
       "<style scoped>\n",
       "    .dataframe tbody tr th:only-of-type {\n",
       "        vertical-align: middle;\n",
       "    }\n",
       "\n",
       "    .dataframe tbody tr th {\n",
       "        vertical-align: top;\n",
       "    }\n",
       "\n",
       "    .dataframe thead th {\n",
       "        text-align: right;\n",
       "    }\n",
       "</style>\n",
       "<table border=\"1\" class=\"dataframe\">\n",
       "  <thead>\n",
       "    <tr style=\"text-align: right;\">\n",
       "      <th></th>\n",
       "      <th>1</th>\n",
       "      <th>2</th>\n",
       "      <th>3</th>\n",
       "      <th>4</th>\n",
       "      <th>5</th>\n",
       "      <th>6</th>\n",
       "    </tr>\n",
       "    <tr>\n",
       "      <th>0</th>\n",
       "      <th></th>\n",
       "      <th></th>\n",
       "      <th></th>\n",
       "      <th></th>\n",
       "      <th></th>\n",
       "      <th></th>\n",
       "    </tr>\n",
       "  </thead>\n",
       "  <tbody>\n",
       "    <tr>\n",
       "      <th>Streat1</th>\n",
       "      <td>S001</td>\n",
       "      <td>V</td>\n",
       "      <td>Alberto</td>\n",
       "      <td>Franco</td>\n",
       "      <td>15/05/2002</td>\n",
       "      <td>35</td>\n",
       "    </tr>\n",
       "    <tr>\n",
       "      <th>Streat2</th>\n",
       "      <td>S002</td>\n",
       "      <td>V</td>\n",
       "      <td>Gino</td>\n",
       "      <td>Mcneill</td>\n",
       "      <td>17/05/2002</td>\n",
       "      <td>32</td>\n",
       "    </tr>\n",
       "    <tr>\n",
       "      <th>Streat3</th>\n",
       "      <td>S003</td>\n",
       "      <td>VI</td>\n",
       "      <td>Ryan</td>\n",
       "      <td>Parkes</td>\n",
       "      <td>16/02/1999</td>\n",
       "      <td>33</td>\n",
       "    </tr>\n",
       "    <tr>\n",
       "      <th>Streat4</th>\n",
       "      <td>S004</td>\n",
       "      <td>VI</td>\n",
       "      <td>Eesha</td>\n",
       "      <td>Hinton</td>\n",
       "      <td>25/09/1998</td>\n",
       "      <td>30</td>\n",
       "    </tr>\n",
       "    <tr>\n",
       "      <th>Streat5</th>\n",
       "      <td>S005</td>\n",
       "      <td>V</td>\n",
       "      <td>Gino</td>\n",
       "      <td>Mcneill</td>\n",
       "      <td>11/05/2002</td>\n",
       "      <td>31</td>\n",
       "    </tr>\n",
       "    <tr>\n",
       "      <th>Streat6</th>\n",
       "      <td>S006</td>\n",
       "      <td>VI</td>\n",
       "      <td>David</td>\n",
       "      <td>Parkes</td>\n",
       "      <td>15/09/1997</td>\n",
       "      <td>32</td>\n",
       "    </tr>\n",
       "  </tbody>\n",
       "</table>\n",
       "</div>"
      ],
      "text/plain": [
       "            1   2        3        4           5   6\n",
       "0                                                  \n",
       "Streat1  S001   V  Alberto   Franco  15/05/2002  35\n",
       "Streat2  S002   V     Gino  Mcneill  17/05/2002  32\n",
       "Streat3  S003  VI     Ryan   Parkes  16/02/1999  33\n",
       "Streat4  S004  VI    Eesha   Hinton  25/09/1998  30\n",
       "Streat5  S005   V     Gino  Mcneill  11/05/2002  31\n",
       "Streat6  S006  VI    David   Parkes  15/09/1997  32"
      ]
     },
     "execution_count": 28,
     "metadata": {},
     "output_type": "execute_result"
    }
   ],
   "source": [
    "data = {0:['Streat1','S001','V','Alberto','Franco','15/05/2002',35],\n",
    "        1:['Streat2','S002','V','Gino','Mcneill','17/05/2002',32],\n",
    "        2:['Streat3','S003','VI','Ryan','Parkes','16/02/1999',33],\n",
    "        3:['Streat4','S004','VI','Eesha','Hinton','25/09/1998',30],\n",
    "        4:['Streat5','S005','V','Gino','Mcneill','11/05/2002',31],\n",
    "        5:['Streat6','S006','VI','David','Parkes','15/09/1997',32]}\n",
    "\n",
    "df = pd.DataFrame (data)\n",
    "df = df.transpose()\n",
    "df.set_index (0,inplace = True)\n",
    "df"
   ]
  },
  {
   "cell_type": "markdown",
   "id": "4a43bbf1-9ac9-4ca9-8d7f-235f9dc881c6",
   "metadata": {},
   "source": [
    "### 8) Write a Pandas program to display the default index and set a column as an Index in a given dataframe and then reset the index"
   ]
  },
  {
   "cell_type": "code",
   "execution_count": 35,
   "id": "5fb9642d-ea43-4915-b2f5-37b04e7d7b0b",
   "metadata": {},
   "outputs": [
    {
     "name": "stdout",
     "output_type": "stream",
     "text": [
      "Original Database is\n",
      "         0     1   2        3        4           5   6\n",
      "0  Streat1  S001   V  Alberto   Franco  15/05/2002  35\n",
      "1  Streat2  S002   V     Gino  Mcneill  17/05/2002  32\n",
      "2  Streat3  S003  VI     Ryan   Parkes  16/02/1999  33\n",
      "3  Streat4  S004  VI    Eesha   Hinton  25/09/1998  30\n",
      "4  Streat5  S005   V     Gino  Mcneill  11/05/2002  31\n",
      "5  Streat6  S006  VI    David   Parkes  15/09/1997  32\n",
      "Edited Database is\n",
      "            1   2        3        4           5   6\n",
      "0                                                  \n",
      "Streat1  S001   V  Alberto   Franco  15/05/2002  35\n",
      "Streat2  S002   V     Gino  Mcneill  17/05/2002  32\n",
      "Streat3  S003  VI     Ryan   Parkes  16/02/1999  33\n",
      "Streat4  S004  VI    Eesha   Hinton  25/09/1998  30\n",
      "Streat5  S005   V     Gino  Mcneill  11/05/2002  31\n",
      "Streat6  S006  VI    David   Parkes  15/09/1997  32\n",
      "Reset Database is\n",
      "         0     1   2        3        4           5   6\n",
      "0  Streat1  S001   V  Alberto   Franco  15/05/2002  35\n",
      "1  Streat2  S002   V     Gino  Mcneill  17/05/2002  32\n",
      "2  Streat3  S003  VI     Ryan   Parkes  16/02/1999  33\n",
      "3  Streat4  S004  VI    Eesha   Hinton  25/09/1998  30\n",
      "4  Streat5  S005   V     Gino  Mcneill  11/05/2002  31\n",
      "5  Streat6  S006  VI    David   Parkes  15/09/1997  32\n"
     ]
    }
   ],
   "source": [
    "data = {0:['Streat1','S001','V','Alberto','Franco','15/05/2002',35],\n",
    "        1:['Streat2','S002','V','Gino','Mcneill','17/05/2002',32],\n",
    "        2:['Streat3','S003','VI','Ryan','Parkes','16/02/1999',33],\n",
    "        3:['Streat4','S004','VI','Eesha','Hinton','25/09/1998',30],\n",
    "        4:['Streat5','S005','V','Gino','Mcneill','11/05/2002',31],\n",
    "        5:['Streat6','S006','VI','David','Parkes','15/09/1997',32]}\n",
    "\n",
    "df = pd.DataFrame (data)\n",
    "df = df.transpose()\n",
    "print (f\"Original Database is\\n{df}\")\n",
    "df.set_index (0,inplace = True)\n",
    "print (f\"Edited Database is\\n{df}\")\n",
    "df.reset_index (inplace = True)\n",
    "print (f\"Reset Database is\\n{df}\")"
   ]
  },
  {
   "cell_type": "markdown",
   "id": "ab759038-b804-4d8f-9de8-6f4ced55dedf",
   "metadata": {},
   "source": [
    "### 9) Write a Pandas program to create a dataframe indexing by date and time."
   ]
  },
  {
   "cell_type": "code",
   "execution_count": 62,
   "id": "ba7b908e-b7f8-43c2-8a13-2d77e4162a70",
   "metadata": {},
   "outputs": [
    {
     "data": {
      "text/html": [
       "<div>\n",
       "<style scoped>\n",
       "    .dataframe tbody tr th:only-of-type {\n",
       "        vertical-align: middle;\n",
       "    }\n",
       "\n",
       "    .dataframe tbody tr th {\n",
       "        vertical-align: top;\n",
       "    }\n",
       "\n",
       "    .dataframe thead th {\n",
       "        text-align: right;\n",
       "    }\n",
       "</style>\n",
       "<table border=\"1\" class=\"dataframe\">\n",
       "  <thead>\n",
       "    <tr style=\"text-align: right;\">\n",
       "      <th></th>\n",
       "      <th>0</th>\n",
       "    </tr>\n",
       "  </thead>\n",
       "  <tbody>\n",
       "    <tr>\n",
       "      <th>2020-01-01 07:00:00</th>\n",
       "      <td>Streat1</td>\n",
       "    </tr>\n",
       "    <tr>\n",
       "      <th>2020-01-01 08:00:00</th>\n",
       "      <td>S001</td>\n",
       "    </tr>\n",
       "    <tr>\n",
       "      <th>2020-01-01 09:00:00</th>\n",
       "      <td>V</td>\n",
       "    </tr>\n",
       "    <tr>\n",
       "      <th>2020-01-01 10:00:00</th>\n",
       "      <td>Alberto</td>\n",
       "    </tr>\n",
       "    <tr>\n",
       "      <th>2020-01-01 11:00:00</th>\n",
       "      <td>Franco</td>\n",
       "    </tr>\n",
       "    <tr>\n",
       "      <th>2020-01-01 12:00:00</th>\n",
       "      <td>15/05/2002</td>\n",
       "    </tr>\n",
       "    <tr>\n",
       "      <th>2020-01-01 13:00:00</th>\n",
       "      <td>35</td>\n",
       "    </tr>\n",
       "  </tbody>\n",
       "</table>\n",
       "</div>"
      ],
      "text/plain": [
       "                              0\n",
       "2020-01-01 07:00:00     Streat1\n",
       "2020-01-01 08:00:00        S001\n",
       "2020-01-01 09:00:00           V\n",
       "2020-01-01 10:00:00     Alberto\n",
       "2020-01-01 11:00:00      Franco\n",
       "2020-01-01 12:00:00  15/05/2002\n",
       "2020-01-01 13:00:00          35"
      ]
     },
     "execution_count": 62,
     "metadata": {},
     "output_type": "execute_result"
    }
   ],
   "source": [
    "per = pd.date_range (start = '1-1-2020 07:00', freq = 'H', periods = 7)\n",
    "df  = pd.DataFrame (data = ['Streat1','S001','V','Alberto','Franco','15/05/2002',35], index = per)\n",
    "df"
   ]
  },
  {
   "cell_type": "markdown",
   "id": "8a5f9e5c-d334-4a3c-a60d-6a88bbc02a2f",
   "metadata": {},
   "source": [
    "### 10) Write a Pandas program to create a dataframe and set a title or name of the index column."
   ]
  },
  {
   "cell_type": "code",
   "execution_count": 78,
   "id": "a03977d8-9a31-4aa0-8b04-bc9e68cd456c",
   "metadata": {},
   "outputs": [
    {
     "data": {
      "text/html": [
       "<div>\n",
       "<style scoped>\n",
       "    .dataframe tbody tr th:only-of-type {\n",
       "        vertical-align: middle;\n",
       "    }\n",
       "\n",
       "    .dataframe tbody tr th {\n",
       "        vertical-align: top;\n",
       "    }\n",
       "\n",
       "    .dataframe thead th {\n",
       "        text-align: right;\n",
       "    }\n",
       "</style>\n",
       "<table border=\"1\" class=\"dataframe\">\n",
       "  <thead>\n",
       "    <tr style=\"text-align: right;\">\n",
       "      <th></th>\n",
       "      <th>0</th>\n",
       "      <th>1</th>\n",
       "      <th>2</th>\n",
       "      <th>3</th>\n",
       "      <th>4</th>\n",
       "      <th>5</th>\n",
       "      <th>6</th>\n",
       "    </tr>\n",
       "    <tr>\n",
       "      <th>Index_column</th>\n",
       "      <th></th>\n",
       "      <th></th>\n",
       "      <th></th>\n",
       "      <th></th>\n",
       "      <th></th>\n",
       "      <th></th>\n",
       "      <th></th>\n",
       "    </tr>\n",
       "  </thead>\n",
       "  <tbody>\n",
       "    <tr>\n",
       "      <th>0</th>\n",
       "      <td>Streat1</td>\n",
       "      <td>S001</td>\n",
       "      <td>V</td>\n",
       "      <td>Alberto</td>\n",
       "      <td>Franco</td>\n",
       "      <td>15/05/2002</td>\n",
       "      <td>35</td>\n",
       "    </tr>\n",
       "    <tr>\n",
       "      <th>1</th>\n",
       "      <td>Streat2</td>\n",
       "      <td>S002</td>\n",
       "      <td>V</td>\n",
       "      <td>Gino</td>\n",
       "      <td>Mcneill</td>\n",
       "      <td>17/05/2002</td>\n",
       "      <td>32</td>\n",
       "    </tr>\n",
       "    <tr>\n",
       "      <th>2</th>\n",
       "      <td>Streat3</td>\n",
       "      <td>S003</td>\n",
       "      <td>VI</td>\n",
       "      <td>Ryan</td>\n",
       "      <td>Parkes</td>\n",
       "      <td>16/02/1999</td>\n",
       "      <td>33</td>\n",
       "    </tr>\n",
       "    <tr>\n",
       "      <th>3</th>\n",
       "      <td>Streat4</td>\n",
       "      <td>S004</td>\n",
       "      <td>VI</td>\n",
       "      <td>Eesha</td>\n",
       "      <td>Hinton</td>\n",
       "      <td>25/09/1998</td>\n",
       "      <td>30</td>\n",
       "    </tr>\n",
       "    <tr>\n",
       "      <th>4</th>\n",
       "      <td>Streat5</td>\n",
       "      <td>S005</td>\n",
       "      <td>V</td>\n",
       "      <td>Gino</td>\n",
       "      <td>Mcneill</td>\n",
       "      <td>11/05/2002</td>\n",
       "      <td>31</td>\n",
       "    </tr>\n",
       "    <tr>\n",
       "      <th>5</th>\n",
       "      <td>Streat6</td>\n",
       "      <td>S006</td>\n",
       "      <td>VI</td>\n",
       "      <td>David</td>\n",
       "      <td>Parkes</td>\n",
       "      <td>15/09/1997</td>\n",
       "      <td>32</td>\n",
       "    </tr>\n",
       "  </tbody>\n",
       "</table>\n",
       "</div>"
      ],
      "text/plain": [
       "                    0     1   2        3        4           5   6\n",
       "Index_column                                                     \n",
       "0             Streat1  S001   V  Alberto   Franco  15/05/2002  35\n",
       "1             Streat2  S002   V     Gino  Mcneill  17/05/2002  32\n",
       "2             Streat3  S003  VI     Ryan   Parkes  16/02/1999  33\n",
       "3             Streat4  S004  VI    Eesha   Hinton  25/09/1998  30\n",
       "4             Streat5  S005   V     Gino  Mcneill  11/05/2002  31\n",
       "5             Streat6  S006  VI    David   Parkes  15/09/1997  32"
      ]
     },
     "execution_count": 78,
     "metadata": {},
     "output_type": "execute_result"
    }
   ],
   "source": [
    "data = {0:['Streat1','S001','V','Alberto','Franco','15/05/2002',35],\n",
    "        1:['Streat2','S002','V','Gino','Mcneill','17/05/2002',32],\n",
    "        2:['Streat3','S003','VI','Ryan','Parkes','16/02/1999',33],\n",
    "        3:['Streat4','S004','VI','Eesha','Hinton','25/09/1998',30],\n",
    "        4:['Streat5','S005','V','Gino','Mcneill','11/05/2002',31],\n",
    "        5:['Streat6','S006','VI','David','Parkes','15/09/1997',32]}\n",
    "\n",
    "\n",
    "df = pd.DataFrame (data)\n",
    "df = df.transpose()\n",
    "df.index.name = 'Index_column'\n",
    "df"
   ]
  },
  {
   "cell_type": "markdown",
   "id": "570f4c4b-2f9a-4419-a017-b228443aa932",
   "metadata": {},
   "source": [
    "### 11) Write a Pandas program to select a specific row of given series/dataframe by integer index."
   ]
  },
  {
   "cell_type": "code",
   "execution_count": 79,
   "id": "7493177b-5440-4420-ad07-1b34ca1587e8",
   "metadata": {},
   "outputs": [
    {
     "data": {
      "text/plain": [
       "0       Streat2\n",
       "1          S002\n",
       "2             V\n",
       "3          Gino\n",
       "4       Mcneill\n",
       "5    17/05/2002\n",
       "6            32\n",
       "Name: 1, dtype: object"
      ]
     },
     "execution_count": 79,
     "metadata": {},
     "output_type": "execute_result"
    }
   ],
   "source": [
    "df.iloc[0]\n",
    "df.loc[1]"
   ]
  }
 ],
 "metadata": {
  "kernelspec": {
   "display_name": "Python 3 (ipykernel)",
   "language": "python",
   "name": "python3"
  },
  "language_info": {
   "codemirror_mode": {
    "name": "ipython",
    "version": 3
   },
   "file_extension": ".py",
   "mimetype": "text/x-python",
   "name": "python",
   "nbconvert_exporter": "python",
   "pygments_lexer": "ipython3",
   "version": "3.11.7"
  }
 },
 "nbformat": 4,
 "nbformat_minor": 5
}
